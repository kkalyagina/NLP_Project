{
 "cells": [
  {
   "cell_type": "markdown",
   "id": "6e8cdee5",
   "metadata": {},
   "source": [
    "## NLP Project \"Hate Speech Detection using Transformers (DL)\" "
   ]
  },
  {
   "cell_type": "markdown",
   "id": "ca1ccd39",
   "metadata": {},
   "source": [
    "Group Name: individually\n",
    "\n",
    "Name: Kristina Kaliagina\n",
    "\n",
    "Email: kalyagina.kristina@gmail.com\n",
    "\n",
    "Country: Russia\n",
    "\n",
    "College/Company: Graduated from the University “Higher School of Economics”\n",
    "\n",
    "Specialization: NLP"
   ]
  },
  {
   "cell_type": "markdown",
   "id": "b910ad21",
   "metadata": {},
   "source": [
    "###### Problem description \n",
    "\n",
    "The task of the project is to classify tweets from Twitter, namely, it is necessary to create a model that will help determine whether a particular tweet belongs to such a type of speech as hate speech. Hate Speech, in simple terms, is offensive language directed at individuals or groups based on their affiliation, interests, and characteristics, such as their religion, nationality, race, color, origin, gender, or other identity factor.\n",
    "\n",
    "The task is quite difficult because of the inherent complexity of natural language constructs - different forms of hatred, different types of goals, different ways of representing the same meaning.\n"
   ]
  },
  {
   "cell_type": "markdown",
   "id": "47ef0c20",
   "metadata": {},
   "source": [
    "## Imports"
   ]
  },
  {
   "cell_type": "code",
   "execution_count": 25,
   "id": "0064af30",
   "metadata": {},
   "outputs": [],
   "source": [
    "import pandas as pd\n",
    "import numpy as np\n",
    "import matplotlib.pyplot as plt\n",
    "from sklearn.utils import shuffle\n",
    "from sklearn.utils import resample\n",
    "from sklearn.model_selection import train_test_split\n",
    "import joblib\n",
    "from transformers import AutoTokenizer,TFAutoModelForSequenceClassification\n",
    "import tensorflow as tf\n",
    "from tensorflow import keras\n",
    "from tensorflow.keras import layers\n",
    "from tensorflow.keras.preprocessing.text import Tokenizer\n",
    "from tensorflow.keras.preprocessing.sequence import pad_sequences \n",
    "from tensorflow.keras.layers import Dense, Input, GlobalMaxPooling1D, LSTM, Embedding\n",
    "from tensorflow.keras.models import Model\n",
    "from tensorflow.keras import initializers\n",
    "import warnings \n",
    "warnings.filterwarnings(\"ignore\")"
   ]
  },
  {
   "cell_type": "markdown",
   "id": "22685376",
   "metadata": {},
   "source": [
    "## Download data"
   ]
  },
  {
   "cell_type": "code",
   "execution_count": 2,
   "id": "b1ee99fd",
   "metadata": {},
   "outputs": [],
   "source": [
    "data=pd.read_csv('./for_model.csv')"
   ]
  },
  {
   "cell_type": "code",
   "execution_count": 3,
   "id": "d758d8e7",
   "metadata": {},
   "outputs": [
    {
     "data": {
      "text/html": [
       "<div>\n",
       "<style scoped>\n",
       "    .dataframe tbody tr th:only-of-type {\n",
       "        vertical-align: middle;\n",
       "    }\n",
       "\n",
       "    .dataframe tbody tr th {\n",
       "        vertical-align: top;\n",
       "    }\n",
       "\n",
       "    .dataframe thead th {\n",
       "        text-align: right;\n",
       "    }\n",
       "</style>\n",
       "<table border=\"1\" class=\"dataframe\">\n",
       "  <thead>\n",
       "    <tr style=\"text-align: right;\">\n",
       "      <th></th>\n",
       "      <th>label</th>\n",
       "      <th>clean_tweet</th>\n",
       "    </tr>\n",
       "  </thead>\n",
       "  <tbody>\n",
       "    <tr>\n",
       "      <th>0</th>\n",
       "      <td>1</td>\n",
       "      <td>via</td>\n",
       "    </tr>\n",
       "    <tr>\n",
       "      <th>1</th>\n",
       "      <td>1</td>\n",
       "      <td>mma fans losses matter mma fans rr lost twic...</td>\n",
       "    </tr>\n",
       "    <tr>\n",
       "      <th>2</th>\n",
       "      <td>1</td>\n",
       "      <td>thatas really shitty headline  change it</td>\n",
       "    </tr>\n",
       "    <tr>\n",
       "      <th>3</th>\n",
       "      <td>1</td>\n",
       "      <td>boob camron diaz naked pics</td>\n",
       "    </tr>\n",
       "    <tr>\n",
       "      <th>4</th>\n",
       "      <td>1</td>\n",
       "      <td>makes ask yourself i anybody god  oh thank god</td>\n",
       "    </tr>\n",
       "    <tr>\n",
       "      <th>...</th>\n",
       "      <td>...</td>\n",
       "      <td>...</td>\n",
       "    </tr>\n",
       "    <tr>\n",
       "      <th>55001</th>\n",
       "      <td>0</td>\n",
       "      <td>fishing tomorrow  carnt wait first time years</td>\n",
       "    </tr>\n",
       "    <tr>\n",
       "      <th>55002</th>\n",
       "      <td>0</td>\n",
       "      <td>ate  isz youuudddddddddai</td>\n",
       "    </tr>\n",
       "    <tr>\n",
       "      <th>55003</th>\n",
       "      <td>0</td>\n",
       "      <td>see nina turner airwaves trying wrap mantle ge...</td>\n",
       "    </tr>\n",
       "    <tr>\n",
       "      <th>55004</th>\n",
       "      <td>0</td>\n",
       "      <td>listening sad songs monday morning otw work sad</td>\n",
       "    </tr>\n",
       "    <tr>\n",
       "      <th>55005</th>\n",
       "      <td>0</td>\n",
       "      <td>thank  follow</td>\n",
       "    </tr>\n",
       "  </tbody>\n",
       "</table>\n",
       "<p>55006 rows × 2 columns</p>\n",
       "</div>"
      ],
      "text/plain": [
       "       label                                        clean_tweet\n",
       "0          1                                               via \n",
       "1          1    mma fans losses matter mma fans rr lost twic...\n",
       "2          1           thatas really shitty headline  change it\n",
       "3          1                        boob camron diaz naked pics\n",
       "4          1     makes ask yourself i anybody god  oh thank god\n",
       "...      ...                                                ...\n",
       "55001      0      fishing tomorrow  carnt wait first time years\n",
       "55002      0                          ate  isz youuudddddddddai\n",
       "55003      0  see nina turner airwaves trying wrap mantle ge...\n",
       "55004      0    listening sad songs monday morning otw work sad\n",
       "55005      0                                      thank  follow\n",
       "\n",
       "[55006 rows x 2 columns]"
      ]
     },
     "execution_count": 3,
     "metadata": {},
     "output_type": "execute_result"
    }
   ],
   "source": [
    "data=data[['label', 'clean_tweet']]\n",
    "data"
   ]
  },
  {
   "cell_type": "code",
   "execution_count": 4,
   "id": "5909bbf9",
   "metadata": {},
   "outputs": [
    {
     "name": "stdout",
     "output_type": "stream",
     "text": [
      "<class 'pandas.core.frame.DataFrame'>\n",
      "RangeIndex: 55006 entries, 0 to 55005\n",
      "Data columns (total 2 columns):\n",
      " #   Column       Non-Null Count  Dtype \n",
      "---  ------       --------------  ----- \n",
      " 0   label        55006 non-null  int64 \n",
      " 1   clean_tweet  55006 non-null  object\n",
      "dtypes: int64(1), object(1)\n",
      "memory usage: 859.6+ KB\n"
     ]
    }
   ],
   "source": [
    "data.info()"
   ]
  },
  {
   "cell_type": "code",
   "execution_count": 5,
   "id": "beebdbc6",
   "metadata": {
    "scrolled": true
   },
   "outputs": [
    {
     "data": {
      "text/plain": [
       "1    27503\n",
       "0    27503\n",
       "Name: label, dtype: int64"
      ]
     },
     "execution_count": 5,
     "metadata": {},
     "output_type": "execute_result"
    }
   ],
   "source": [
    "data['label'].value_counts()"
   ]
  },
  {
   "cell_type": "markdown",
   "id": "c2c31aaa",
   "metadata": {},
   "source": [
    "## Splitting the Data"
   ]
  },
  {
   "cell_type": "code",
   "execution_count": 6,
   "id": "d8ead796",
   "metadata": {},
   "outputs": [],
   "source": [
    "X = data.clean_tweet\n",
    "Y = data[\"label\"].values\n",
    "df_train, df_test, y_train, y_test = train_test_split(X,Y,test_size=0.20)"
   ]
  },
  {
   "cell_type": "markdown",
   "id": "7fb49120",
   "metadata": {},
   "source": [
    "## Creating Tokenizer"
   ]
  },
  {
   "cell_type": "code",
   "execution_count": 7,
   "id": "d28feb71",
   "metadata": {},
   "outputs": [],
   "source": [
    "MAX_VOCAB_SIZE = 20000\n",
    "tokenizer = Tokenizer(num_words = MAX_VOCAB_SIZE)\n",
    "tokenizer.fit_on_texts(df_train)\n",
    "sequences_train = tokenizer.texts_to_sequences(df_train)\n",
    "sequences_test = tokenizer.texts_to_sequences(df_test)"
   ]
  },
  {
   "cell_type": "code",
   "execution_count": 8,
   "id": "54bfbde2",
   "metadata": {},
   "outputs": [
    {
     "name": "stdout",
     "output_type": "stream",
     "text": [
      "21927\n"
     ]
    }
   ],
   "source": [
    "V = len(tokenizer.word_index)\n",
    "print(V)"
   ]
  },
  {
   "cell_type": "code",
   "execution_count": 9,
   "id": "4cffa6a7",
   "metadata": {},
   "outputs": [
    {
     "name": "stdout",
     "output_type": "stream",
     "text": [
      "(44004, 24)\n"
     ]
    }
   ],
   "source": [
    "data_train = pad_sequences(sequences_train)\n",
    "print(data_train.shape)"
   ]
  },
  {
   "cell_type": "code",
   "execution_count": 10,
   "id": "58e01f42",
   "metadata": {},
   "outputs": [],
   "source": [
    "T = data_train.shape[1]"
   ]
  },
  {
   "cell_type": "code",
   "execution_count": 11,
   "id": "615c1e67",
   "metadata": {},
   "outputs": [],
   "source": [
    "data_test = pad_sequences(sequences_test,maxlen=T)"
   ]
  },
  {
   "cell_type": "code",
   "execution_count": 12,
   "id": "ee5b8f9e",
   "metadata": {},
   "outputs": [
    {
     "data": {
      "text/plain": [
       "(11002, 24)"
      ]
     },
     "execution_count": 12,
     "metadata": {},
     "output_type": "execute_result"
    }
   ],
   "source": [
    "data_test.shape"
   ]
  },
  {
   "cell_type": "markdown",
   "id": "313ba3c5",
   "metadata": {},
   "source": [
    "## Build the Model without Transformers -  LSTM Model"
   ]
  },
  {
   "cell_type": "code",
   "execution_count": 13,
   "id": "e1b771d4",
   "metadata": {},
   "outputs": [],
   "source": [
    "D = 10 #embedding dimensionality \n",
    "\n",
    "M = 5 #hidden state vector\n",
    "\n",
    "\n",
    "i = Input(shape=(T,))\n",
    "x = Embedding(V+1,D)(i)\n",
    "x = LSTM(M,return_sequences=True,kernel_initializer=initializers.RandomNormal(stddev=0.01))(x)\n",
    "x = GlobalMaxPooling1D()(x)\n",
    "x = Dense(1,activation=\"sigmoid\")(x)\n",
    "\n",
    "model = Model(i,x)"
   ]
  },
  {
   "cell_type": "code",
   "execution_count": 14,
   "id": "bbcf9f6d",
   "metadata": {},
   "outputs": [],
   "source": [
    "model.compile(loss='binary_crossentropy',optimizer='adam',metrics=['accuracy'])"
   ]
  },
  {
   "cell_type": "code",
   "execution_count": 15,
   "id": "b3893d4b",
   "metadata": {},
   "outputs": [
    {
     "name": "stdout",
     "output_type": "stream",
     "text": [
      "Epoch 1/10\n",
      "1376/1376 [==============================] - 23s 14ms/step - loss: 0.4334 - accuracy: 0.7941 - val_loss: 0.2162 - val_accuracy: 0.9187\n",
      "Epoch 2/10\n",
      "1376/1376 [==============================] - 19s 14ms/step - loss: 0.1449 - accuracy: 0.9508 - val_loss: 0.1327 - val_accuracy: 0.9495\n",
      "Epoch 3/10\n",
      "1376/1376 [==============================] - 19s 13ms/step - loss: 0.0882 - accuracy: 0.9707 - val_loss: 0.1116 - val_accuracy: 0.9563\n",
      "Epoch 4/10\n",
      "1376/1376 [==============================] - 18s 13ms/step - loss: 0.0663 - accuracy: 0.9765 - val_loss: 0.1102 - val_accuracy: 0.9573\n",
      "Epoch 5/10\n",
      "1376/1376 [==============================] - 18s 13ms/step - loss: 0.0554 - accuracy: 0.9801 - val_loss: 0.1087 - val_accuracy: 0.9601\n",
      "Epoch 6/10\n",
      "1376/1376 [==============================] - 18s 13ms/step - loss: 0.0478 - accuracy: 0.9819 - val_loss: 0.0932 - val_accuracy: 0.9648\n",
      "Epoch 7/10\n",
      "1376/1376 [==============================] - 18s 13ms/step - loss: 0.0428 - accuracy: 0.9842 - val_loss: 0.0937 - val_accuracy: 0.9639\n",
      "Epoch 8/10\n",
      "1376/1376 [==============================] - 18s 13ms/step - loss: 0.0398 - accuracy: 0.9849 - val_loss: 0.1003 - val_accuracy: 0.9656\n",
      "Epoch 9/10\n",
      "1376/1376 [==============================] - 19s 14ms/step - loss: 0.0367 - accuracy: 0.9858 - val_loss: 0.0978 - val_accuracy: 0.9650\n",
      "Epoch 10/10\n",
      "1376/1376 [==============================] - 23s 17ms/step - loss: 0.0351 - accuracy: 0.9864 - val_loss: 0.1046 - val_accuracy: 0.9646\n"
     ]
    },
    {
     "data": {
      "text/plain": [
       "<keras.callbacks.History at 0x2330b44e160>"
      ]
     },
     "execution_count": 15,
     "metadata": {},
     "output_type": "execute_result"
    }
   ],
   "source": [
    "model.fit(data_train,y_train,epochs=10,validation_data=(data_test,y_test))"
   ]
  },
  {
   "cell_type": "markdown",
   "id": "b0e6fbbe",
   "metadata": {},
   "source": [
    "## Using Transformers"
   ]
  },
  {
   "cell_type": "code",
   "execution_count": 18,
   "id": "97723a32",
   "metadata": {},
   "outputs": [],
   "source": [
    "class TransformerBlock(layers.Layer):\n",
    "    def __init__(self, embed_dim, num_heads, ff_dim, rate=0.1):\n",
    "        super(TransformerBlock, self).__init__()\n",
    "        self.att = layers.MultiHeadAttention(num_heads=num_heads, key_dim=embed_dim)\n",
    "        self.ffn = keras.Sequential(\n",
    "            [layers.Dense(ff_dim, activation=\"relu\"), layers.Dense(embed_dim),]\n",
    "        )\n",
    "        self.layernorm1 = layers.LayerNormalization(epsilon=1e-6)\n",
    "        self.layernorm2 = layers.LayerNormalization(epsilon=1e-6)\n",
    "        self.dropout1 = layers.Dropout(rate)\n",
    "        self.dropout2 = layers.Dropout(rate)\n",
    "\n",
    "    def call(self, inputs, training):\n",
    "        attn_output = self.att(inputs, inputs)\n",
    "        attn_output = self.dropout1(attn_output, training=training)\n",
    "        out1 = self.layernorm1(inputs + attn_output)\n",
    "        ffn_output = self.ffn(out1)\n",
    "        ffn_output = self.dropout2(ffn_output, training=training)\n",
    "        return self.layernorm2(out1 + ffn_output)"
   ]
  },
  {
   "cell_type": "markdown",
   "id": "d8e4a111",
   "metadata": {},
   "source": [
    "## Model Creation"
   ]
  },
  {
   "cell_type": "code",
   "execution_count": 19,
   "id": "3f4e9b0e",
   "metadata": {},
   "outputs": [],
   "source": [
    "embed_dim = 10  # Embedding size for each token\n",
    "num_heads = 2  # Number of attention heads\n",
    "ff_dim = 15  # Hidden layer size in feed forward network inside transformer\n",
    "\n",
    "inputs = layers.Input(shape=(T,))\n",
    "x = Embedding(V+1,D)(inputs)\n",
    "transformer_block = TransformerBlock(embed_dim, num_heads, ff_dim)\n",
    "x = transformer_block(x)\n",
    "x = layers.GlobalAveragePooling1D()(x)\n",
    "x = layers.Dropout(0.1,)(x)\n",
    "x = layers.Dense(20, activation=\"elu\",kernel_initializer=initializers.RandomNormal(stddev=0.01))(x)\n",
    "x = layers.Dropout(0.1)(x)\n",
    "outputs = layers.Dense(1, activation=\"sigmoid\")(x)\n",
    "\n",
    "model = keras.Model(inputs=inputs, outputs=outputs)"
   ]
  },
  {
   "cell_type": "markdown",
   "id": "8c1dbd4b",
   "metadata": {},
   "source": [
    "## Compiling and Training the model"
   ]
  },
  {
   "cell_type": "code",
   "execution_count": 20,
   "id": "476b98af",
   "metadata": {
    "scrolled": true
   },
   "outputs": [
    {
     "name": "stdout",
     "output_type": "stream",
     "text": [
      "Epoch 1/10\n",
      "1376/1376 [==============================] - 15s 9ms/step - loss: 0.2636 - accuracy: 0.8811 - val_loss: 0.1096 - val_accuracy: 0.9634\n",
      "Epoch 2/10\n",
      "1376/1376 [==============================] - 12s 9ms/step - loss: 0.0759 - accuracy: 0.9749 - val_loss: 0.0891 - val_accuracy: 0.9715\n",
      "Epoch 3/10\n",
      "1376/1376 [==============================] - 12s 9ms/step - loss: 0.0448 - accuracy: 0.9852 - val_loss: 0.1039 - val_accuracy: 0.9709\n",
      "Epoch 4/10\n",
      "1376/1376 [==============================] - 12s 9ms/step - loss: 0.0318 - accuracy: 0.9898 - val_loss: 0.0978 - val_accuracy: 0.9735\n",
      "Epoch 5/10\n",
      "1376/1376 [==============================] - 12s 9ms/step - loss: 0.0259 - accuracy: 0.9919 - val_loss: 0.1081 - val_accuracy: 0.9746\n",
      "Epoch 6/10\n",
      "1376/1376 [==============================] - 12s 9ms/step - loss: 0.0215 - accuracy: 0.9932 - val_loss: 0.1385 - val_accuracy: 0.9744\n",
      "Epoch 7/10\n",
      "1376/1376 [==============================] - 12s 9ms/step - loss: 0.0187 - accuracy: 0.9937 - val_loss: 0.0986 - val_accuracy: 0.9791\n",
      "Epoch 8/10\n",
      "1376/1376 [==============================] - 12s 9ms/step - loss: 0.0162 - accuracy: 0.9941 - val_loss: 0.1230 - val_accuracy: 0.9765\n",
      "Epoch 9/10\n",
      "1376/1376 [==============================] - 12s 9ms/step - loss: 0.0142 - accuracy: 0.9948 - val_loss: 0.0957 - val_accuracy: 0.9797\n",
      "Epoch 10/10\n",
      "1376/1376 [==============================] - 12s 8ms/step - loss: 0.0137 - accuracy: 0.9947 - val_loss: 0.1233 - val_accuracy: 0.9788\n"
     ]
    }
   ],
   "source": [
    "model.compile(\"adam\", \"binary_crossentropy\", metrics=[\"accuracy\"])\n",
    "history = model.fit(data_train, y_train, epochs=10, validation_data=(data_test, y_test))"
   ]
  },
  {
   "cell_type": "markdown",
   "id": "e8860248",
   "metadata": {},
   "source": [
    "You can see we get ~98% validation accuracy, which is absolutely awesome."
   ]
  },
  {
   "cell_type": "code",
   "execution_count": 22,
   "id": "3b78f251",
   "metadata": {},
   "outputs": [
    {
     "name": "stdout",
     "output_type": "stream",
     "text": [
      "Model: \"model_1\"\n",
      "_________________________________________________________________\n",
      " Layer (type)                Output Shape              Param #   \n",
      "=================================================================\n",
      " input_2 (InputLayer)        [(None, 24)]              0         \n",
      "                                                                 \n",
      " embedding_1 (Embedding)     (None, 24, 10)            219280    \n",
      "                                                                 \n",
      " transformer_block (Transfor  (None, 24, 10)           1235      \n",
      " merBlock)                                                       \n",
      "                                                                 \n",
      " global_average_pooling1d (G  (None, 10)               0         \n",
      " lobalAveragePooling1D)                                          \n",
      "                                                                 \n",
      " dropout_2 (Dropout)         (None, 10)                0         \n",
      "                                                                 \n",
      " dense_3 (Dense)             (None, 20)                220       \n",
      "                                                                 \n",
      " dropout_3 (Dropout)         (None, 20)                0         \n",
      "                                                                 \n",
      " dense_4 (Dense)             (None, 1)                 21        \n",
      "                                                                 \n",
      "=================================================================\n",
      "Total params: 220,756\n",
      "Trainable params: 220,756\n",
      "Non-trainable params: 0\n",
      "_________________________________________________________________\n"
     ]
    }
   ],
   "source": [
    "model.summary()"
   ]
  },
  {
   "cell_type": "markdown",
   "id": "8ee5a94e",
   "metadata": {},
   "source": [
    "## Visualizing results of the training"
   ]
  },
  {
   "cell_type": "markdown",
   "id": "a2e69c6b",
   "metadata": {},
   "source": [
    "Let's plot the training and validation accuracy/loss graphs."
   ]
  },
  {
   "cell_type": "code",
   "execution_count": 26,
   "id": "b23bf671",
   "metadata": {},
   "outputs": [
    {
     "data": {
      "image/png": "[encoded data removed]",
      "text/plain": [
       "<Figure size 576x576 with 2 Axes>"
      ]
     },
     "metadata": {
      "needs_background": "light"
     },
     "output_type": "display_data"
    }
   ],
   "source": [
    "acc = history.history['accuracy']\n",
    "val_acc = history.history['val_accuracy']\n",
    "\n",
    "loss = history.history['loss']\n",
    "val_loss = history.history['val_loss']\n",
    "\n",
    "epochs_range = range(10)\n",
    "\n",
    "plt.figure(figsize=(8, 8))\n",
    "plt.subplot(1, 2, 1)\n",
    "plt.plot(epochs_range, acc, label='Training Accuracy')\n",
    "plt.plot(epochs_range, val_acc, label='Validation Accuracy')\n",
    "plt.legend(loc='lower right')\n",
    "plt.title('Training and Validation Accuracy')\n",
    "\n",
    "plt.subplot(1, 2, 2)\n",
    "plt.plot(epochs_range, loss, label='Training Loss')\n",
    "plt.plot(epochs_range, val_loss, label='Validation Loss')\n",
    "plt.legend(loc='upper right')\n",
    "plt.title('Training and Validation Loss')\n",
    "plt.show()"
   ]
  },
  {
   "cell_type": "markdown",
   "id": "67fbbd73",
   "metadata": {},
   "source": [
    "What is a bit curious here is that validation performance is better than training performance, right from the start to the end of execution.\n",
    "\n",
    "One reason for this is that validation performance is measured at the end of the epoch, but training performance is the average values across the epoch."
   ]
  },
  {
   "cell_type": "markdown",
   "id": "d7d303ff",
   "metadata": {},
   "source": [
    "## Model and Tokenizer Saving"
   ]
  },
  {
   "cell_type": "code",
   "execution_count": 27,
   "id": "44c66546",
   "metadata": {
    "scrolled": true
   },
   "outputs": [
    {
     "name": "stderr",
     "output_type": "stream",
     "text": [
      "WARNING:absl:Found untraced functions such as multi_head_attention_layer_call_fn, multi_head_attention_layer_call_and_return_conditional_losses, layer_normalization_layer_call_fn, layer_normalization_layer_call_and_return_conditional_losses, layer_normalization_1_layer_call_fn while saving (showing 5 of 22). These functions will not be directly callable after loading.\n"
     ]
    },
    {
     "name": "stdout",
     "output_type": "stream",
     "text": [
      "INFO:tensorflow:Assets written to: ram://d791d1fd-1928-4e22-bd16-1ebab4fb340b/assets\n"
     ]
    },
    {
     "name": "stderr",
     "output_type": "stream",
     "text": [
      "INFO:tensorflow:Assets written to: ram://d791d1fd-1928-4e22-bd16-1ebab4fb340b/assets\n"
     ]
    },
    {
     "data": {
      "text/plain": [
       "['tok']"
      ]
     },
     "execution_count": 27,
     "metadata": {},
     "output_type": "execute_result"
    }
   ],
   "source": [
    "joblib.dump(model,'blah')\n",
    "joblib.dump(tokenizer,'tok')"
   ]
  },
  {
   "cell_type": "markdown",
   "id": "016d08b3",
   "metadata": {},
   "source": [
    "## Preparing Test data"
   ]
  },
  {
   "cell_type": "code",
   "execution_count": 28,
   "id": "efd5d6a3",
   "metadata": {},
   "outputs": [
    {
     "data": {
      "text/html": [
       "<div>\n",
       "<style scoped>\n",
       "    .dataframe tbody tr th:only-of-type {\n",
       "        vertical-align: middle;\n",
       "    }\n",
       "\n",
       "    .dataframe tbody tr th {\n",
       "        vertical-align: top;\n",
       "    }\n",
       "\n",
       "    .dataframe thead th {\n",
       "        text-align: right;\n",
       "    }\n",
       "</style>\n",
       "<table border=\"1\" class=\"dataframe\">\n",
       "  <thead>\n",
       "    <tr style=\"text-align: right;\">\n",
       "      <th></th>\n",
       "      <th>id</th>\n",
       "      <th>tweet</th>\n",
       "    </tr>\n",
       "  </thead>\n",
       "  <tbody>\n",
       "    <tr>\n",
       "      <th>0</th>\n",
       "      <td>31963</td>\n",
       "      <td>#studiolife #aislife #requires #passion #dedic...</td>\n",
       "    </tr>\n",
       "    <tr>\n",
       "      <th>1</th>\n",
       "      <td>31964</td>\n",
       "      <td>@user #white #supremacists want everyone to s...</td>\n",
       "    </tr>\n",
       "    <tr>\n",
       "      <th>2</th>\n",
       "      <td>31965</td>\n",
       "      <td>safe ways to heal your #acne!!    #altwaystohe...</td>\n",
       "    </tr>\n",
       "    <tr>\n",
       "      <th>3</th>\n",
       "      <td>31966</td>\n",
       "      <td>is the hp and the cursed child book up for res...</td>\n",
       "    </tr>\n",
       "    <tr>\n",
       "      <th>4</th>\n",
       "      <td>31967</td>\n",
       "      <td>3rd #bihday to my amazing, hilarious #nephew...</td>\n",
       "    </tr>\n",
       "    <tr>\n",
       "      <th>...</th>\n",
       "      <td>...</td>\n",
       "      <td>...</td>\n",
       "    </tr>\n",
       "    <tr>\n",
       "      <th>17192</th>\n",
       "      <td>49155</td>\n",
       "      <td>thought factory: left-right polarisation! #tru...</td>\n",
       "    </tr>\n",
       "    <tr>\n",
       "      <th>17193</th>\n",
       "      <td>49156</td>\n",
       "      <td>feeling like a mermaid ð #hairflip #neverre...</td>\n",
       "    </tr>\n",
       "    <tr>\n",
       "      <th>17194</th>\n",
       "      <td>49157</td>\n",
       "      <td>#hillary #campaigned today in #ohio((omg)) &amp;am...</td>\n",
       "    </tr>\n",
       "    <tr>\n",
       "      <th>17195</th>\n",
       "      <td>49158</td>\n",
       "      <td>happy, at work conference: right mindset leads...</td>\n",
       "    </tr>\n",
       "    <tr>\n",
       "      <th>17196</th>\n",
       "      <td>49159</td>\n",
       "      <td>my   song \"so glad\" free download!  #shoegaze ...</td>\n",
       "    </tr>\n",
       "  </tbody>\n",
       "</table>\n",
       "<p>17197 rows × 2 columns</p>\n",
       "</div>"
      ],
      "text/plain": [
       "          id                                              tweet\n",
       "0      31963  #studiolife #aislife #requires #passion #dedic...\n",
       "1      31964   @user #white #supremacists want everyone to s...\n",
       "2      31965  safe ways to heal your #acne!!    #altwaystohe...\n",
       "3      31966  is the hp and the cursed child book up for res...\n",
       "4      31967    3rd #bihday to my amazing, hilarious #nephew...\n",
       "...      ...                                                ...\n",
       "17192  49155  thought factory: left-right polarisation! #tru...\n",
       "17193  49156  feeling like a mermaid ð #hairflip #neverre...\n",
       "17194  49157  #hillary #campaigned today in #ohio((omg)) &am...\n",
       "17195  49158  happy, at work conference: right mindset leads...\n",
       "17196  49159  my   song \"so glad\" free download!  #shoegaze ...\n",
       "\n",
       "[17197 rows x 2 columns]"
      ]
     },
     "execution_count": 28,
     "metadata": {},
     "output_type": "execute_result"
    }
   ],
   "source": [
    "test=pd.read_csv('./test_tweets_anuFYb8.csv')\n",
    "test"
   ]
  },
  {
   "cell_type": "code",
   "execution_count": 29,
   "id": "337f4fec",
   "metadata": {},
   "outputs": [
    {
     "data": {
      "text/plain": [
       "['#studiolife #aislife #requires #passion #dedication #willpower   to find #newmaterialsâ\\x80¦ ',\n",
       " ' @user #white #supremacists want everyone to see the new â\\x80\\x98  #birdsâ\\x80\\x99 #movie â\\x80\\x94 and hereâ\\x80\\x99s why  ',\n",
       " 'safe ways to heal your #acne!!    #altwaystoheal #healthy   #healing!! ',\n",
       " 'is the hp and the cursed child book up for reservations already? if yes, where? if no, when? ð\\x9f\\x98\\x8dð\\x9f\\x98\\x8dð\\x9f\\x98\\x8d   #harrypotter #pottermore #favorite',\n",
       " '  3rd #bihday to my amazing, hilarious #nephew eli ahmir! uncle dave loves you and missesâ\\x80¦ ',\n",
       " 'choose to be   :) #momtips ',\n",
       " 'something inside me dies ð\\x9f\\x92¦ð\\x9f\\x92¿â\\x9c¨  eyes ness #smokeyeyes #tired  #lonely #sof #grungeâ\\x80¦ ',\n",
       " '#finished#tattoo#inked#ink#loveitâ\\x9d¤ï¸\\x8f #â\\x9d¤ï¸\\x8fâ\\x9d¤ï¸\\x8fâ\\x9d¤ï¸\\x8fâ\\x9d¤ï¸\\x8f #thanks#aleeee !!! ',\n",
       " ' @user @user @user i will never understand why my dad left me when i was so young.... :/ #deep #inthefeels  ',\n",
       " '#delicious   #food #lovelife #capetown mannaepicure #resturantâ\\x80¦ ',\n",
       " '1000dayswasted - narcosis infinite ep.. make me aware.. grinding neuro bass #lifestyle   ',\n",
       " \"one of the world's greatest spoing events   #lemans24 #teamaudi  \",\n",
       " 'half way through the website now and #allgoingwell very  ',\n",
       " 'good food, good life , #enjoy and   ð\\x9f\\x99\\x8cð\\x9f\\x8d\\x95ð\\x9f\\x91\\x80ð\\x9f\\x91\\x8dð\\x9f\\x91\\x8cð\\x9f\\x91\\x84 this is called ~garlic bread~ ... #iloveitâ\\x80¦ ',\n",
       " \"i'll stand behind this #guncontrolplease   #senselessshootings #taketheguns #comicrelief #stillsad \",\n",
       " 'i ate,i ate and i ate...ð\\x9f\\x98\\x80ð\\x9f\\x98\\x8a   #jamaisasthi #fish #curry #prawn #hilsa #foodfestival #foodies ',\n",
       " ' @user got my @user limited edition rain or shine set today!!  ! @user @user @user @user ',\n",
       " '&amp; #love &amp; #hugs &amp; #kisses too! how to keep your #baby     #parenting #healthcare',\n",
       " 'ð\\x9f\\x91\\xadð\\x9f\\x8c\\x9eð\\x9f\\x92\\x96 #girls   #sun #fave @ london, united kingdom ',\n",
       " 'thought factory: bbc neutrality on right wing fascism  #politics #media #blm #brexit #trump #leadership &gt;3 ',\n",
       " \"hey guys tommorow is the last day of my exams i'm so happy yay  \",\n",
       " ' @user @user  @user  #levyrroni #recuerdos memoriesð\\x9f\\x92\\xadâ\\x9d¤ð\\x9f\\x94\\x97ð\\x9f\\x91«ð\\x9f\\x92\\x8f #recuerdos    #friends #life #triunfodelamor ',\n",
       " 'my mind is like ð\\x9f\\x8e\\x89ð\\x9f\\x92\\x83ð\\x9f\\x8f½ð\\x9f\\x8f\\x80 but my body like ð\\x9f\\x9b\\x8cð\\x9f\\x98´ð\\x9f\\x91µð\\x9f\\x8f½....   #sleepy #stillallinð\\x9f\\x98\\x89',\n",
       " 'never been this down on myself in my entire life.  ',\n",
       " 'check  twitterww - trends: \"trending worldwide 11:14 am bst\"1. #oscarpistorius2. #diplomalÄ±liselilerayakta3.  â\\x80¦',\n",
       " 'i thought i saw a mermaid!!! #ceegee  #smcr   #inshot #girls #cute #summer #blur #sun  â\\x80¦ ',\n",
       " ' chick gets fucked hottest naked lady ',\n",
       " 'happy bday lucyâ\\x9c¨â\\x9c¨ð\\x9f\\x8e\\x88 xoxo #love #beautiful #pizza   #instagood #mileycyrus #demilovatoâ\\x80¦ ',\n",
       " ' haroldfriday have a weekend filled with sunbeams everyone!   #healthy #weekend ',\n",
       " '@user @user tried that! but nothing - will try again! know you loved #2, but the 3rd light my fave &amp;deep rivers  ',\n",
       " \"i'll #never be #120 #again i'm   #i'm a #thick #women #blacktina\",\n",
       " ' @user new @user episode tk! and a really cool 2-year anniversary ep in the works for august. :o)   ',\n",
       " '#orangechicken   attack bull game 3d: do you really think that his head was empty around the city. each side ',\n",
       " 'suppo the #taiji fisherman! no bullying! no racism! #tweet4taiji #thecove #seashepherd ',\n",
       " \"i say we because i'm speaking collectively. i've always known. 2016 showed a lot.  andâ\\x80¦ \",\n",
       " 'wish we could talk  ',\n",
       " \"food time for haylie ð\\x9f\\x98\\x9b hot chocolate for mummy â\\x98\\x95ï¸\\x8fâ\\x9c\\x85ð\\x9f\\x8c¤ð\\x9f\\x8d\\x83ð\\x9f\\x92¯ð\\x9f\\x92ªâ\\x98®ð\\x9f¤\\x93 thank god it's friday!!! ð\\x9f\\x91\\x8fð\\x9f\\x91\\x8fð\\x9f\\x91\\x8f  â\\x80¦ \",\n",
       " '@user snow white --&gt; open! --&gt; #sleepy,  , #sneezy and #bashful. @ or dm us today! [#] ',\n",
       " '  #bihday #shilpashetty we #wish you to have a very very #successful #yearretailer,manufacturer ladies cloth ',\n",
       " \"it wasn't me  #lottery \",\n",
       " 'tomorrow will be fun! seeing an old friend and then shooting something super fun:)  ',\n",
       " '#raw food diet benefits! -    #altwaystoheal #healthy   #healing #peace #joy #love !! ',\n",
       " '@user @user trumps invested billions into saudi. he empowers the people funding isis.   #trumpsahypocrite',\n",
       " \"my granddaughter's 1st bihday is tomorrow.  going to pick her play house, little car, &amp; pool today.   ð\\x9f\\x8e\\x82ð\\x9f\\x92\\x9eð\\x9f\\x8e\\x81ð\\x9f\\x92\\x96ð\\x9f\\x92\\x8eð\\x9f\\x92\\x9eð\\x9f\\x8e\\x88\",\n",
       " 'happiest place on eah! #disneyworld #orlando #castle   #mickeymouse #likechildrens @user ',\n",
       " 'so baby dave is due to be born on october 26...my fav band of all time #tool will be playing @user the same weekend .....   lol',\n",
       " '  loving each other every day',\n",
       " ' @user morning sunshine! ð\\x9f\\x92\\x8b   #smile #sexy #bigboobs ',\n",
       " 'this #world makes me  ... #jesus makes me #happy... john 16:33 #word #truth #faith #peaceâ\\x80¦ ',\n",
       " 'foods for #healing your body!!    #doplants! #healthy is  !! ',\n",
       " 'enjoying the sunshine! god is good. #orlando #sunshinestate #goodlife #bosslady #joy  â\\x80¦ ',\n",
       " \"@user    father's to my idol #prg#\",\n",
       " '@user is there any reason for why the maintainers of the android do not provide more clear and basic code examples in their docs?  ',\n",
       " 'have a nice luxuryweek!!ó¾\\x94\\x97ó¾\\x94\\x97 #monday #neweek #luxuryweek #bestday #staypositive   #fun #goodmoments #lifestyle... ',\n",
       " 'cause me and @user get to live together for a whole week!   #cantwaittocook ð\\x9f\\x98\\x81ð\\x9f\\x98\\x82',\n",
       " '@user @user @user @user #throw back thursday  bih day 2 my bro@user chege',\n",
       " 'i am thankful for fun. #thankful #positive     ',\n",
       " \"i saw she's craying coz her baby so hard to breath     strong yeah baby god withâ\\x80¦ (at kaika medical center) â\\x80\\x94 \",\n",
       " 'so this happened!   #baby #duedec2016 ',\n",
       " \"let's do this thing!   #euro2016 \",\n",
       " \"it's time!! ð\\x9f\\x99\\x8fð\\x9f\\x8f¼ð\\x9f\\x91\\x8fð\\x9f\\x8f¼ð\\x9f\\x91\\x8fð\\x9f\\x8f¼â\\x9a½ï¸\\x8fâ\\x9a½ï¸\\x8f #euro2016 #onemonth #24teams #onewinner #football #internationals   #10thjune-10thjuly\",\n",
       " '#model   i love u take with u all the time in urð\\x9f\\x93±!!! ð\\x9f\\x98\\x99ð\\x9f\\x98\\x8eð\\x9f\\x91\\x84ð\\x9f\\x91\\x85ð\\x9f\\x92¦ð\\x9f\\x92¦ð\\x9f\\x92¦  ',\n",
       " 'can #lighttherapy help with #sad or #depression?    #altwaystoheal  #healthy is   !! ',\n",
       " 'have a very good sunday everyone ð\\x9f\\x98\\x80ð\\x9f\\x8d\\x80ð\\x9f\\x87«ð\\x9f\\x87·â\\x9a½ï¸\\x8fð\\x9f\\x8f\\x86 #sunday #morning   #smile #picofthedayâ\\x80¦ ',\n",
       " \"my cousins are asking why do i always where shawl...di ko lang masabi, 'coz po i'm getting fat and my braso is getting bigger!!!   #baboy\",\n",
       " 'i #believe r #willingness 2 #try 2 #understand, 2 #encourage &amp; 2 #inspire others 2 b   &amp; #grow is a #greater #spiritual #purpose #grok',\n",
       " 'time for a pint before seeing coldplay in wembleyyyy ð\\x9f\\x98³ð\\x9f\\x98\\x8dð\\x9f\\x8e\\x89   #coldplay #wembleystadiumâ\\x80¦ ',\n",
       " 'current mood.  #goodnight #happilyeverafter #disney #quotes   #blessed #thankful #gratefulâ\\x80¦ ',\n",
       " \"chioma and noble igwe's special day #chobs16 #chobs2016 @user #landmark_centre @user   \",\n",
       " 'cant believe i left school 5 years ago and now in 8 weeks time ill be teaching my own classes! #drama#teacher #gettingold',\n",
       " 'lipo-light helped shape her, and it can help shape you. learn more @user #loseinches #burnfat #result   ',\n",
       " 'ahhh!! leaving for @user tomorrow!!ð\\x9f\\x98\\x8dð\\x9f\\x99\\x8cð\\x9f\\x8f¼ð\\x9f\\x98\\xadð\\x9f\\x92\\x95 @user #eforest2016 #electricforest #plur  ',\n",
       " 'blessed to hear morning chorus, good morning the people.   fridayð\\x9f\\x98\\x84ð\\x9f\\x98\\x84',\n",
       " 'aunti mi, where do you find this hilarious posts?  is nigeria not in enough trouble? ',\n",
       " \" @user 6 chapters left of my book &amp; then it's nearly complete #kruella #adaughterstale it will be a hard read #emotional #funnyâ\\x80¦\",\n",
       " ' @user thrilled to be working with @user over the coming months - more announcements very soon #2faceddancecompany ',\n",
       " 'trying out another way to make #sourdough #bread, this one may be underproofed   #failed #baking ',\n",
       " 'cool old door with window only $50.00 from vendor 509!! #shoplocal #shopalyssas #fathersday   ',\n",
       " '  #fathersday #fatherday from @user team! ',\n",
       " '   greatbritain: all eyes on the skies as rafredarrows fly past the mall to say  â\\x80¦ ',\n",
       " ' @user 8000 followers...we are blessed by all of you ,and love everyone that suppos us ...thx very much and   fishing and fâ\\x80¦',\n",
       " '@user .@user @user @user @user &lt;--- no more feeding at the public trough piggy. #michelleobamaâ\\x80¦ ',\n",
       " 'website is live #avon # makeup # fresh # look   ',\n",
       " 'and the forecast looks good for the weather all across #bolton ! ',\n",
       " ' @user happy shootingð\\x9f\\x91©â\\x80\\x8dâ\\x9d¤ï¸\\x8fâ\\x80\\x8dð\\x9f\\x92\\x8bâ\\x80\\x8dð\\x9f\\x91©ð\\x9f\\x8c· love monicað\\x9f\\x92\\x93ð\\x9f\\x8c\\x88  #sweet #magazine #thanku #love   ',\n",
       " \"happy father's day ð\\x9f\\x98\\x8dð\\x9f\\x98\\x8dð\\x9f\\x98\\x8d   #fathers #day fathersday #dad #ilovemydad #ilovemyfather #love \",\n",
       " 'stardivarius:    friday : new history and new outfit post \\xa0 #fashion #look  #friendsflâ\\x80¦ ',\n",
       " ' @user final countdown to the official us publication on june 1st   #whyfontsmatter #usa #typography #font #book ',\n",
       " 'so happy that d trusted me to be the first to knowâ\\x9d¤ð\\x9f\\x91¶   #lovelovelovebabies',\n",
       " 'interview feat grandmaster flash - ze lovely message â\\x99«â\\x99ªâ\\x99«â\\x99«â\\x98ºâ\\x98º #nurap #nudisco #music #paris   â\\x99«â\\x99ªâ\\x99«  via @user',\n",
       " \"i'm getting more hours at work for my training. i'm so   \",\n",
       " 'life right now is amazingð\\x9f\\x91\\x8c  #successful #positive',\n",
       " 'if social media is your reality you should really get out more. viual acceptance seems to really be a thing.   #s ocialmedia',\n",
       " '@user ð\\x9f\\x92ª sevens tomorrowð\\x9f\\x92ª #southwestseason ð\\x9f\\x90\\x9dfinalð\\x9f\\x90\\x9dagainst @user next week  plus scrim with @user  #wearebusy  ',\n",
       " '@user @user @user @user @user your ignorant &amp; ill informed tweets r silly, childish &amp; one dimensional  ',\n",
       " 'great to see you! look forward to welcoming you to digme   ',\n",
       " 'jackblair - na: #horny #hot #naughty #nasty   #slut #young #shy #wet #nude #xxx #sexy #porn #kinky #snapshot ',\n",
       " '@user @user did u take both of them and pour them into one big cup, or what? no drink delivered.  ',\n",
       " \"ð\\x9f\\x98\\x8að\\x9f\\x98\\x83ð\\x9f\\x98\\x8dð\\x9f\\x98\\x98â\\x9d¤ï¸\\x8fð\\x9f\\x92\\x99ð\\x9f\\x91\\x8dð\\x9f\\x8f» happy father's day dad hope u have a great day love u ð\\x9f\\x98\\x8að\\x9f\\x98\\x83ð\\x9f\\x98\\x8dð\\x9f\\x98\\x98â\\x9d¤ï¸\\x8fð\\x9f\\x92\\x99ð\\x9f\\x91\\x8dð\\x9f\\x8f»  fathersday  #loveyou \",\n",
       " 'i have been working on my anatomy studyguide since 5 pm and i am still not done   #isuck #plspassme',\n",
       " 'worry not.   #daydream #sunlight #thunder #miss #dreams   #distance #silence #pain #sweetâ\\x80¦ ',\n",
       " '@user getting ready for kubamba  fathers day kambua noel gg moh be blessed',\n",
       " 'ya know guys, i was feeling stressed out after the donut thing. i just feel so happy when i know 96 followers are sticking with me.  ',\n",
       " 'pa 2 #å\\x88¶æ\\x9c\\x8dã\\x82\\x86ã\\x81«ã\\x81° #ã\\x82»ã\\x83¼ã\\x83©ã\\x83¼æ\\x9c\\x8d #ã\\x83«ã\\x83¼ã\\x82ºã\\x82½ã\\x83\\x83ã\\x82¯ã\\x82¹ #ã\\x83\\x84ã\\x82¤ã\\x83³ã\\x83\\x86ã\\x83¼ã\\x83« #jk #ã\\x82®ã\\x83£ã\\x83« #ã\\x83\\x9fã\\x83\\x8bã\\x82ªã\\x83³ #å\\x86\\x99ç\\x9c\\x9f #ã\\x83\\x97ã\\x83ª   #fun #memory #bffð\\x9f\\x91\\xad #loveâ\\x80¦ ',\n",
       " 'electronic music from #bogota #colombia  #puntohost #cedm #edm #dj #fashion #music   ',\n",
       " 'back for some people! #missingperson #havingfunalone #lonely   ð\\x9f\\x98\\x8f #hothl ð\\x9f\\x94¥ð\\x9f\\x91\\x91ð\\x9f\\x92\\x8b ',\n",
       " 'l o v e   #sky #photoofday #moments #cool #instaphoto  #paradise    #good  #mexicoâ\\x80¦ ',\n",
       " 'happy saturday tune (*^_^*) #music #saturday   #edm ',\n",
       " 'many of my @user alum friends are waking up shocked to hear of the death of scsu president. #shocked   ',\n",
       " \"@user i'm disappointed in yesterday's argument. i wasn't even baselessly accused of living in my mothers basement. #weak   #bad\",\n",
       " 'hey @user - a $14000 ivanka bracelet? do you feel good profiting from #xenophobia? #misogyny? #hatred? ? #grabyourwallet',\n",
       " 'she was just loving him and he just saw her as a temporary setup.  ',\n",
       " 'happy euro 2016 eve #euro2016   ð\\x9f\\x98\\x8dð\\x9f\\x98\\x8dð\\x9f\\x92ªð\\x9f\\x8f½ð\\x9f\\x92ªð\\x9f\\x8f½',\n",
       " \" @user only 741 retweets in over half a day   that's because gun owners like my hubby &amp; me don't respect your fanaticism \",\n",
       " 'colourpop !!! ð\\x9f\\x98\\x8dð\\x9f\\x98\\x8dð\\x9f\\x98\\x8dð\\x9f\\x98\\x8d   ',\n",
       " '#palladino : \"i\\'ll say whatÂ\\xa0iÂ\\xa0feel like saying.â\\x80\\x9d #gopathetic #lookwhatyoudid #politics   #madcow  ',\n",
       " 'save $$ no logins x brokers   #me #change #memes #love   #education #university ',\n",
       " ' @user fursuit fucking   hardcore 2008  ',\n",
       " 'something was obviously really funny ð\\x9f\\x91\\xad #laugh #girls #smiles  â\\x80¦ ',\n",
       " '#fbf to when it was all staing!   how far @user has come &amp; #anxious for whatâ\\x80¦ ',\n",
       " 'i am thankful for films. #thankful #positive     ',\n",
       " '@user @user @user @user on our way to #oambo see you soon!!    #sasocp16 ',\n",
       " \"@user @user @user   always, always, always somebody else's fault...  #bigot \",\n",
       " \"i have begun something #new on this page &amp; am super   about it :)  it's daily tarot guidance with a... \",\n",
       " 'this how we turning up todayð\\x9f\\x92\\x83ð\\x9f\\x8f½ð\\x9f\\x8e\\x89ð\\x9f\\x92\\x83ð\\x9f\\x8f½ð\\x9f\\x8e\\x89 #whitegirlwasted   #dramafree #armedsecurityâ\\x80¦ ',\n",
       " '#qatil poetry   poetry #eid poetry #2 lines sms #eid ghazal #urdu poetry #dard poetry #beutiful #poetry + follow @user send 4o4o4',\n",
       " 'rip to all the victims.   #usa #prayfororlando #terrorism #victims #lgbt #suppo #altogether #pride #stand ',\n",
       " \"i'm so   and #grateful now that - #affirmations \",\n",
       " ' @user i read in an aicle 4 yrs before that even dhabas on the side of national highways are growing 1/2 acres of ganjas.   â\\x80¦',\n",
       " 'drive in to see grease &amp; footloose â\\x98ºï¸\\x8fð\\x9f\\x91«  ',\n",
       " \"@user  thank you steve!   i don't think it has quite sunk in though!\",\n",
       " ' @user today was a good day! ð\\x9f\\x90\\xad#happiestplaceoneah #disneyland #fun   #walking #sundayfundayâ\\x80¦ ',\n",
       " 'ltpst ð\\x9f\\x98\\x82ð\\x9f\\x98\\x82 and i need vitamin sea ð\\x9f\\x8c\\x8að\\x9f\\x8c\\x8a  #beach #blue #smile   ',\n",
       " \" @user today's með\\x9f\\x91\\x97ð\\x9f\\x92\\x9eð\\x9f\\x8d§ð\\x9f\\x8c»ð\\x9f\\x8d\\x89ð\\x9f\\x8d¦ð\\x9f\\x91\\x99  #code #white #summer #love   \",\n",
       " '#rainbow over wall street   a good way to end training!! #officialrainbowspotterâ\\x80¦ ',\n",
       " 'water why?  ð\\x9f\\x98\\x82',\n",
       " \"it's going to be a great day! the day itself doesn't have a choice in the matter. #feelinggood   #proud #feelingaccomplished #motivated\",\n",
       " \"@user oh there is tons of stuff its like they won't do it, eah garbage dump  \",\n",
       " 'found this in my vault never posted it ð\\x9f\\x98¬ #selfie #throwback #boys #guys #love  â\\x80¦ ',\n",
       " 'happy friday!! #wegotwheels #car #vw #polo #firstcar   #ontheroad #whitepolo #newcarâ\\x80¦ ',\n",
       " '@user all together this christmas: pls  &amp; follow @user national day of action on 20 feb against  &amp; theâ\\x80¦ ',\n",
       " 'you might be a libtard if... #libtard  #sjw #liberal #politics ',\n",
       " 'withasumið\\x9f\\x96\\x96ð\\x9f\\x8f»ð\\x9f\\x92«ð\\x9f\\x92\\x97 #yesterday #shot#disney#disneyland  #enjoy ',\n",
       " '@user why is game of thrones s5 no longer on sky box sets? #mad   #help',\n",
       " ' @user straight no chaser -   ( #music video)  ',\n",
       " '4u nonhockey people. hockeys babe ruth died. gordie howe was beyond myth and legend. hockey has lost mr. hockey.  ',\n",
       " 'does #linkedin have anything in the works for giving free membership to #canadian, #australian and #british #veterans? #justusvetsatm  ',\n",
       " \"#michelleobama is looking a bit 'dishevelled...' is she thinking about spending her retirement visiting #obama at aâ\\x80¦ \",\n",
       " 'out for dinner with my lukey boy ð\\x9f\\x98\\x8dð\\x9f\\x98\\x8d#lovehim   #holidays #orlando @ clear creek circleâ\\x80¦ ',\n",
       " \"can't wait to watch @user with everyone at @user this evening!  \",\n",
       " \"@user hahaha, that's a good point that i just totally skipped over. when you're 14, not a celebrity, and your dad is asking for $,  \",\n",
       " 'cat is out of the bag...#fruit ninja   #steam #htcvive ',\n",
       " ' @user  -national-german-bestfriend-day maybe? ð\\x9f\\x98\\x82ð\\x9f\\x98\\x8bð\\x9f¤\\x98ð\\x9f\\x8f¼ ',\n",
       " 'i am.. really good at cooking..   credit to @user for the mashed potatoes and mac n cheese! ',\n",
       " 'why are all our local mps so   about the #downgrade of our hospital? #savethealex ',\n",
       " 'pretty much the best advice ever. #hydrated #zerofucksgiven   #friday #sorrynotsorry #liveâ\\x80¦ ',\n",
       " '#model #alternative #tattoo #piercing   @ olde towne bellevue ',\n",
       " \"i just sent a msg to my aunt in peru and told her to wish my grandpa and uncles a happy father's day but didn't include my dad.  \",\n",
       " '  day @user  all the best to you!',\n",
       " \"#people aren't protesting #trump because a #republican won-they do so because trump has fuhered  &amp;â\\x80¦ \",\n",
       " ' at work: attorneys for white officer who shot #philandocastile remove black judge from presiding over trial. ',\n",
       " \"phil spencer criticizes sony? of course! what else would you do when you just got slapped in the face by sony's huge 40 million+ dick!  \",\n",
       " ' @user we think sa is pretty great, and we canâ\\x80\\x99t wait to show you why #twodaystogo #countdown #shhh   #bringiton',\n",
       " 'w; @user @user @user and me #cafeexpress #stanupcomedy   #crazyâ\\x80¦ ',\n",
       " \"@user trump's long history of  explained 1970's thru 2016 #nevermypresident  #theresistance \",\n",
       " \"happy mother's day to ppl.  \",\n",
       " 'my #bff is in #liverpool and i am so   ! first stop @user for a #flatwhite  #coffeelovers #bestfriends ',\n",
       " 'i love herð\\x9f\\x98\\x8d ',\n",
       " 'so tom hiddleston.... aka..lokie(excuse spelling) is the new #jamesbond   #scaryinthor #bestchoicefornewjb ð\\x9f\\x91\\x8cð\\x9f\\x91\\x8cð\\x9f\\x91\\x8dð\\x9f\\x91\\x8d',\n",
       " 'about to watch these movies alone  ',\n",
       " 'one thinks this could be a bit of a punch up ð\\x9f\\x98\\x84 #gameofthrones    ',\n",
       " '\"i\\'m his princess.\"  me: i\\'m no one\\'s princess...sadly.   ',\n",
       " \"cant wait for icon this weekend and can't wait to finally get one of these tatoos   #icon16 \",\n",
       " 'laughing at the fact that all you mfz use this app to talk about what u feel inside for other people to see it haha  ',\n",
       " \"#sterling   attack bull chase: when you leave the lot despite the fact that you're a strong source of fo \",\n",
       " 'i finally found a way how to delete old tweets! you might find it useful as well:    #deletetweets',\n",
       " '@user @user @user never a doubt on my pa,   many #voted for him. sad for #america.',\n",
       " 'if you cut anyone with english dna in half you well find  written inside them.',\n",
       " ' @user vip ciniworld with caz @user  ð\\x9f\\x98¬   ð\\x9f\\x92\\x9a',\n",
       " 'seeing war craft in imax 3d ð\\x9f\\x98\\x84 #warcraftmovie   #imax #woohoo ',\n",
       " '#model   i love u take with u all the time in urð\\x9f\\x93±!!! ð\\x9f\\x98\\x99ð\\x9f\\x98\\x8eð\\x9f\\x91\\x84ð\\x9f\\x91\\x85ð\\x9f\\x92¦ð\\x9f\\x92¦ð\\x9f\\x92¦  ',\n",
       " ' @user i burnt all the garlic bread #devastated   #:(',\n",
       " '#model   i love u take with u all the time in urð\\x9f\\x93±!!! ð\\x9f\\x98\\x99ð\\x9f\\x98\\x8eð\\x9f\\x91\\x84ð\\x9f\\x91\\x85ð\\x9f\\x92¦ð\\x9f\\x92¦ð\\x9f\\x92¦  ',\n",
       " '@user  looked right at the cameraman as she grabbed katie\\'s arm &amp; said \"can i talk to you\"   wow, everything you do is for tv?  ',\n",
       " '@user @user @user @user @user we held one in march, which was great cpd for everyone ð\\x9f\\x91\\x8dð\\x9f\\x8f½ ',\n",
       " 'looking up some african news out of boredem, stumbled upon @user and oh my god, site is racist as fuck against everything  ',\n",
       " \"@user @user dana is devestated that there hasn't been any trouble \",\n",
       " 'i am gorgeous. #i_am #positive #affirmation     ',\n",
       " \" @user oh, so now he's admitting to having a small staff???  #flipflopper #disgraceful   \",\n",
       " 'because happy! #because   #instagram #instagood #instagram #instapasspo #instadailyâ\\x80¦ ',\n",
       " 'splashing around ð\\x9f\\x92¦ð\\x9f\\x8d\\x83#dogs #bestdogever #swimming #healthy   #goodvibes #yoga #fitnessâ\\x80¦ ',\n",
       " 'when people are so old and bored they resolve to bullying others over twitter  ',\n",
       " \" @user it isn't my love... it isn't.... \",\n",
       " \" @user there wasn't so much violence at the last #euro!!  i wonder what happened,  is the brutal side coming back? #euro2016 #footbaâ\\x80¦\",\n",
       " 'i messed up my nails  ',\n",
       " 'can #lighttherapy help with   or #depression?    #altwaystoheal  #healthy is #happy !! ',\n",
       " \"aww yeah it's all good bing bong bing bong   \",\n",
       " 'selfie srelfie! #smile   #me #selfie #followme #f4f #polishgirl #polskadziewczyna ',\n",
       " 'how vera rubin overcame  and invented a whole field of #scientific #study  #diversityinscience #science #steam',\n",
       " ' @user .@user @user @user @user so sorry to read this after so much pain  ',\n",
       " ' @user draft 1..ð\\x9f\\x98\\x82ð\\x9f\\x98\\x82 b4 i pick ð\\x9f\\x91©up from uni at liverpool. #recognition   @user @user @user ',\n",
       " ' â\\x86\\x9d #gbp/usd upside limited around 1.4255/1.4350 â\\x80\\x93 commerzbank   #blog #silver #gold #forex',\n",
       " '#childrenoftheworld   bull up: you will dominate your bull and you will direct it whatever you want it to do ',\n",
       " 'kaya, but no class.   ð\\x9f\\x92\\x81ð\\x9f\\x8f½',\n",
       " '#model   i love u take with u all the time in urð\\x9f\\x93±!!! ð\\x9f\\x98\\x99ð\\x9f\\x98\\x8eð\\x9f\\x91\\x84ð\\x9f\\x91\\x85ð\\x9f\\x92¦ð\\x9f\\x92¦ð\\x9f\\x92¦  ',\n",
       " '#model   i love u take with u all the time in urð\\x9f\\x93±!!! ð\\x9f\\x98\\x99ð\\x9f\\x98\\x8eð\\x9f\\x91\\x84ð\\x9f\\x91\\x85ð\\x9f\\x92¦ð\\x9f\\x92¦ð\\x9f\\x92¦  ',\n",
       " 'london ð\\x9f\\x92\\x99ð\\x9f\\x92\\x99ð\\x9f\\x92\\x99   #selfie #smile #love   #photooftheday #picoftheday #london #londonlife @user ',\n",
       " 'i need some prayer right now. i am not taking my grandmas death well.     #shocked #whyher',\n",
       " '@user @user @user no, just seen this gay gorilla mindset nonsense, and him touting dershowitz as \"clean\"  !',\n",
       " \" @user think this is going to be the best match i've ever watched   #wedding #oldgirls #auwfc \",\n",
       " '@user @user  unfounately, current #gop only see #reagan like this now...  ! ',\n",
       " '  #monday instagram #instagrammers #motorspo #photographers #formula1 and @user ',\n",
       " \"great day! little man's tkd grading &amp; a cracking swimming lesson topped off by wales win   #wal\",\n",
       " 'sorry   bear, @user won it this time -  ',\n",
       " \" @user can't wait for #pubcon @user  #bestconference #oct16 #digitalmarketing   #comingsoon \",\n",
       " ' @user   #monday to u all ð\\x9f\\x98\\x98  #model #boobs #tits #urbex #television #sexy #retweet #tights #pantyhose #desire #touch ',\n",
       " 'glad to live hereð\\x9f\\x8c\\x8a, my   place ð\\x9f\\x92¥ ',\n",
       " 'fam(ily) ð\\x9f\\x92\\x96 .   #fasting #family #likeforlike #like4like #lfl #together #happiness #lovelyâ\\x80¦ ',\n",
       " '\"starships\" #nickiminaj   #6secondcover #singitfohevine #singersofvine #singing #musician #music ',\n",
       " 'i am thrilling. #i_am #positive #affirmation     ',\n",
       " ' @user make someone happy today... by minding your own damn business. #life #living #inv #business   #love',\n",
       " '#paradise   rooster simulation: i want to climb the vast expanse of mountains. it reached the leakage cock w ',\n",
       " 'any #pats2020 students want to snapchat? adrianmcqueen #snapchat #ucumberlands #college  ',\n",
       " 'client needed to #brainstorm #socialmedia   #altrincham ',\n",
       " 'disney gator attack: 2-year-old boy found dead -   #disney   ',\n",
       " 'the price of a stolen payment-card record has dropped from $25 in 2011 to $6 in 2016. this is why ransomware is on the rise  ',\n",
       " 'just got free slice of cake at fav cafe!   #tgif',\n",
       " '@user the box as pictured contains a single inflatable prep-school-boy  sex-doll.  ',\n",
       " ' @user so relaxed   #peaceful â\\x98ºï¸\\x8f',\n",
       " ' @user first @user for @user with our new customer @user   #paners #drupa2016 hall 10 stand c13/3 ',\n",
       " 'ð\\x9f\\x94\\x9d #love #instagood #photooftheday top.tags #tbt #cute #me #beautiful #followme   #followâ\\x80¦ ',\n",
       " \"it's been a while since the last time i drank hard liquor. now, with officemates!  \",\n",
       " ' @user when older people see this pic their nose remembers the smells. why close down impoant sites like this?   ',\n",
       " 'ð\\x9f\\x98\\x94   #socialmedia may 2016 was hottest may on record: nasa  ',\n",
       " \"we're   to say we won't be able to attend @user this year. due to the hotel costs. hope we will be attending it next year tho!!\",\n",
       " 'why is my hea spazzing shipping hahaha   #doctors  ',\n",
       " 'we are nearly ready for the off!!!   #nohamptoncarnival ',\n",
       " 'how many more innocent people have to die while ceain politicians choose to ignore the hate and refuse to even discuss gun control  ',\n",
       " \"it's almost been a week since i saw the strokes i am   \",\n",
       " ' @user   to sta a #newbook after my visit to the jfk museum! #inspiration ',\n",
       " 'i am intelligent. #i_am #positive #affirmation     ',\n",
       " '  #heal with the #lawofattraction #loa  !!  #altwaystoheal  #healthy     #wellness !! ',\n",
       " ' :a fatal truck crash on #kigali highway leaves more than 30 people died instantly around kicukiro centre #rwanda ',\n",
       " '#macbook   gorilla simulator: you need to do to adapt to the environment. the need to tear the city. materia ',\n",
       " '#marshmallow time #fire #son   #love ',\n",
       " ' @user i can\\'t believe how much i used to care what people thought of me now i\\'m just like \"lol fuck u, fuck you and  wtf fuck youâ\\x80¦',\n",
       " \"be jealous.. i have the best mother ð\\x9f\\x98»ð\\x9f\\x98» â\\x80\\x94 mamatii je t'aime â\\x9d¤â\\x9d¤ #cute #nice   #with #herâ\\x80¦ \",\n",
       " 'always amazes me that  comes in unexpected places like local cafe today where me being #irish got it first and then muslims. gutted!',\n",
       " 'his and hers #icedcoffee @user #coffeeblogger #coffee #thecappuccinotraveler  â\\x80¦ ',\n",
       " ' @user do you ever get   about #lyme wars? yeah, me too. this helps me. ',\n",
       " 'p5 pupils all ready for their #ymi musical extravaganza!   ',\n",
       " 'this made me laugh so hard. angry bieber.. #dontknowwhy   #fridayfun @user ',\n",
       " 'grow old along with me; the best is yet to be. â\\x80\\x94robe browning #wedding   #love ',\n",
       " ' â\\x86\\x9d #usd/jpy: bulls sit tight below 107 handle - fxstreet   #blog #silver #gold #forex',\n",
       " \"@user   failed terribly in controlling drugs,must be punished electorally,but it's @user that let it in initially,no? blueð\\x9f\\x8c\\x9f #fb\",\n",
       " ' @user @user i never see you in my store anymore! ð\\x9f\\x98¢   should have asked for an autograph and said hi all those times iâ\\x80¦',\n",
       " 'ð\\x9f\\x92\\x94ð\\x9f\\x92\\x94ð\\x9f\\x92\\x94ð\\x9f\\x98° rest in peace christina... #rip #ripchristina #christinagrimmie #love #miss   ',\n",
       " 'as always when i watch one of the @user races,it inspires me for my training,still got a solid month yet before 1st race. ',\n",
       " 'me see picture of dog today   smile face :) i tweet good now',\n",
       " \"when you woke af, but you realize the world around you isn't changing. #sigh   \",\n",
       " 'my love returnsâ\\x9d¤ï¸\\x8fð\\x9f\\x99\\x8fð\\x9f\\x8f¼ð\\x9f\\x8d¹ð\\x9f\\x8d\\x8b #coollime #starbucks #cool #lime #feel #fresh #nice #great #drink  â\\x80¦ ',\n",
       " 'it could be worse. #embarrassed #unfounate #traumatized #bitches black lives should matter to other black people.  ',\n",
       " 'ð\\x9f\\x98\\x94   #tech how to buy bitcoins with a debit card  ',\n",
       " 'happy father day to all the fathers out there! #fathersday   #sunday #family',\n",
       " 'i am thankful for freedom of speech. #thankful #positive     ',\n",
       " '#justinb   gorilla simulator: you need to do to adapt to the environment. the need to tear the city. materia ',\n",
       " '@user @user it is still fucking bullshit that they are giving  #bigots a platform to spread their vile #hate.  #boyâ\\x80¦',\n",
       " '@user am i girl or boy? :-p @user @user #sissy @user @user  @user @user ',\n",
       " 'bihday flowers!!   #saturday #flower #love @ jes b jewelry studio ',\n",
       " \"@user @user i don't even think he's wearing his dad jeans... \",\n",
       " \"and another nerd friend bans me because of my personal believes. #who'snotopenminded?   #ohwell\",\n",
       " \"@user @user @user it's always about race and religion! that's what's wrong w #america  \",\n",
       " 'sometimes it takes a while to realize how a person really fits in your life.   - a friend - soon to be boss    ',\n",
       " 'back to the day job for shane lowry!    more &gt;&gt; ',\n",
       " '  #fathersday to the strongest, most patient, kind and understanding person i know.â\\x80¦ ',\n",
       " 'not only am i third wheeling at cold stone right now, but i used a buy one get one free coupon on myself.  ',\n",
       " '\"simply assault\" is equal to spitting on someone. authoritys got the charges all wrong. these guy will walk   ',\n",
       " '@user can i get a re tweet #marriage #wales  ',\n",
       " \"@user this '93 video - '16 when he referred to sen. warren as pocahontas = a stable pattern of  and ignorance.â\\x80¦ \",\n",
       " 'it is what it is, but it will be what you make it. meer inspiratie? kijk op  #life   ',\n",
       " 'when the house has been taken over by football -time to get reading @user always with love!   #book ',\n",
       " ' @user at the end of the day you gotta be   for you.',\n",
       " 'cleveland fans look !',\n",
       " 'i am bubbly. #i_am #positive #affirmation     ',\n",
       " ' @user getting ready to deliver the feature address to a bright-eyed group of youngsters.   #nervous ',\n",
       " 'my @user smoothie  \"glass is (only) half full\"   #comeon ',\n",
       " '#wednesdaywisdom  make sure you are not ignoring true happiness in your life    ',\n",
       " '@user my trust is so broken right now.  ',\n",
       " 'iftar happyhouse â\\x9d¤ï¸\\x8f #bestie #friends #chillin   #iftar #goodtimes @ tgi fridays streetâ\\x80¦ ',\n",
       " 'just realized i look a little cross eyed on my license   #lol',\n",
       " 'going to be a fun week! (10 days for me) #csikraken #construct ',\n",
       " \"  #bihday to my sweet little mermaid! time has flown so quickly,  can't believe, in aâ\\x80¦ \",\n",
       " 'over 30,000 arrests daily in us;over 160,000 police-civilian encounters daily. shootings,\"abuse\" extremely rare,thoâ\\x80¦ ',\n",
       " 'i am thankful for inspiration. #thankful #positive     ',\n",
       " \"i wish kpop aists never come in my country for i won't be able to see them perform at all... i'm broke, ppl...   #kpop\",\n",
       " 'who wants to go anywhere on sundays now since #ghosthuntersinternational and #destinationtruth are both on #chillernetwork ??  ',\n",
       " \"  father's day #ð\\x9f\\x87ºð\\x9f\\x87¸ \",\n",
       " 'i am thankful for health. #thankful #positive     ',\n",
       " 'now people judge you by colour and english accent ,  ',\n",
       " '9975  , #lostnfound   when we got together we both wanted a serious long-term monogamous relationship. you... ',\n",
       " 'ccs without aciiii ð\\x9f\\x99\\x86 #eki #liani #fetty #ccs #emergency #team #friend #family #like #love  â\\x80¦ ',\n",
       " ' black lives matter:  #today #day  ',\n",
       " ' â\\x86\\x9d #usd/jpy remains weak, below 106.00   #blog #silver #gold #forex',\n",
       " 'character customization confirmed! #pokemonsunmoon #e32016  ',\n",
       " ' @user @user emma great meeting you yesterday. i will email as have an oppounity for you already  ',\n",
       " \"my poor babes missed water play this morning at school ð\\x9f\\x99\\x81 i figured they'd do water play in the afternoon!    #poorbaby\",\n",
       " 'let there be light.....hmmm i prefer l....spotlight ð\\x9f\\x98\\x81ð\\x9f\\x98\\x81ð\\x9f\\x98\\x81.....  #vibrant #alive #joy #sparkle ',\n",
       " 'today was a good day.   #love #goodday #smiles #goodangle #instasmile #instagramâ\\x80¦ ',\n",
       " 'really terrible mass terrorist attack in usa night club #à¤¨à¤¿à¤¸à¤¬à¥\\x8dà¤¦   #black-day# @user @user @user',\n",
       " '@user @user we hear your  ,#bigotry ,#homophobia, #sexual assaults, #womanizing, #treason , #lies you hearâ\\x80¦ ',\n",
       " 'i am knowing. #i_am #positive #affirmation     ',\n",
       " \"right one suppos women's nutrition.     #romance #love #dating #soulmates #sexy   #we \",\n",
       " '#hate, , #crisis these are among many others the #president #elect @user &amp; his co are only capable ',\n",
       " ' @user have a #wonderful #saturday   #flower #day ð\\x9f\\x91\\x89ð\\x9f\\x8c¸ð\\x9f\\x8c·ð\\x9f\\x92\\x90ð\\x9f\\x8cºð\\x9f\\x91\\x88 (vine by @user ',\n",
       " \"i'm guessing chip hills doesn't teach their kids how to spell....... mp might be just a little hard for u   ð\\x9f\\x98\\x82 \",\n",
       " '#model   i love u take with u all the time in urð\\x9f\\x93±!!! ð\\x9f\\x98\\x99ð\\x9f\\x98\\x8eð\\x9f\\x91\\x84ð\\x9f\\x91\\x85ð\\x9f\\x92¦ð\\x9f\\x92¦ð\\x9f\\x92¦  ',\n",
       " \"i've got wine, v.happy!! \",\n",
       " '@user we deserve so much better. i understand why you are endorsing her, but she stands for so much that you are so against.  ',\n",
       " \"@user thank you for reaching out! issue resolved. as it turns out, your site isn't fully compatible with safari for ios or macos.  \",\n",
       " 'happy bday jb! #yesterdaycelebration #fambam   â\\x80\\x94 feeling happy',\n",
       " 'bihday libations ð\\x9f\\x98\\x9b (feat. @user . . . #gay #boy #cute   #friends #love #â\\x80¦  ',\n",
       " '@user @user  bihday your majesty',\n",
       " 'you are sleeping and i crying...ð\\x9f\\x8e¶   ',\n",
       " ' @user live in color!check out our new tote bag  and color up your life#totebag   #inspiration  htâ\\x80¦',\n",
       " 'thank you so much @user i really am   and feel amazing!!!  ',\n",
       " '@user i was into \"pimps up hoes down\" \"hookers at the point\" documentaries by brent owens and the cathouse series as a kid lol  ',\n",
       " 'goomespa  #divulgaÃ§Ã£oeparceria #inshot #girls #cute #summer #blur #sun   #fun #dog #hairâ\\x80¦ ',\n",
       " 'sad but true   #true  ',\n",
       " '#animals   -cat #cat #grumpy-cat #happy-campers \"no treats? i\\'ll play with ... ',\n",
       " 'aww poor #ednahhthepug #missingmommy all   sitting there again.....   but wait this timeâ\\x80¦ ',\n",
       " 'nice delivery today!!   #manfrotto #peakdesign #photo #photography #tripod #straps #bags @user ',\n",
       " 'smile with no filter #instamood #picoftheday   #behealthy #summer #bliss #bitchplease ',\n",
       " \"i just pre-ordered my @user 3d browtones! i'm so  ! #beautyblogger #icantwait\",\n",
       " \" @user luther vandross - dance with my father   father's day  \",\n",
       " 'enslavement of animals is not okay. ',\n",
       " \"it's so dark :(  \",\n",
       " \"ah man.. sunday can't come round quick enough   #thestoneroses ð\\x9f\\x8d\\x8b \",\n",
       " 'got my very first @user liquid lipstick and i love it! ð\\x9f\\x92\\x84   girl  ',\n",
       " 'first bubbles for my 40yr old self! #champagne #celebrate #thanks pete #gemini #bihday   indeed! ',\n",
       " '@user #patriotwatch: 4.11 sherm new year  #gap #auspol #rwnj   #drunk #refugees #asylumsâ\\x80¦',\n",
       " '@user  now we have to accept the fact that apple lost its innovation and staed ripping off android .!   ',\n",
       " 'so #shocking &amp;very   to #hear that #christinagrimmie past away!my #thoughts&amp; #prayers rwith her #family at this #time #ripchristina',\n",
       " \" @user hey @user love your music but really not   you're performing for murderous #azerbaijan dictatorship.... \",\n",
       " 'new ted_baker ski and top surprise off the hubby to be #lucky   #loa #lawofattractionâ\\x80¦ ',\n",
       " ' @user .  love ð\\x9f\\x92\\xadð\\x9f\\x92\\x97 hello kitty ð\\x9f\\x8d\\x8eð\\x9f\\x8d\\x8fð\\x9f\\x8d\\x8e  . . .  #model #me #pink #girl #girly #yolo #smile #pop  â\\x80¦ ',\n",
       " ' @user @user ur gunna miss me the most  ',\n",
       " \"had a meeting today about volunteering to run a @user it's in the local library that i went to as a kid.  #givingback #pocintech\",\n",
       " \"whenever you're sad close your eyes and remember the happiest moments of your life... #life #lifequote #thought  \",\n",
       " \"@user can't wait to see iron maiden for first time next sunday @user !  \",\n",
       " '@user never been so   for previous  #secretscreenings than this #starmoviessecretscreening   shh.. they are coming ð\\x9f\\x91½ð\\x9f\\x96\\x96ð\\x9f\\x8f»ð\\x9f\\x8c\\x8fð\\x9f\\x93¡',\n",
       " 'mikoto suoh ð\\x9f\\x94¥ð\\x9f\\x94¥ #kproject   #mikoto (vine by cassidytheduck) ',\n",
       " 'thought factory: left-right polarisation! #trump #uselections2016 #leadership #politics  #brexit #blm &gt;17 ',\n",
       " '@user @user @user @user @user  ð\\x9f\\x8c¾ð\\x9f\\x8d\\x81ð\\x9f\\x8c¾  sunday ð\\x9f\\x8c¾ð\\x9f\\x8d\\x81ð\\x9f\\x8c¾ ',\n",
       " ' @user biography about my step-cousin denise who got ear mites from using a payphone.   ',\n",
       " '4 in me ð\\x9f\\x98\\x84ð\\x9f\\x98\\x86ð\\x9f\\x98\\x81ð\\x9f\\x98\\x83 #me#merry   #behappyandsmile #behappyandsmilealways #behappywithme #likesmeâ\\x80¦ ',\n",
       " ' @user #tgif   #ff to my #gamedev #indiedev #indiegamedev #squad! @user @user @user @user @user @user',\n",
       " '@user go eat a shit dog you anti-american piece of shit. i bet your dad fucked your mouth.  #trump  #nazi',\n",
       " 'really happy to be graduated. no more childish shit #graduation #done   ',\n",
       " 'we would all be   living a #life of #grateful #compassion #love for one another withoutâ\\x80¦ ',\n",
       " 'so many hash tags ð\\x9f\\x98±ð\\x9f\\x98± ',\n",
       " '  - tyler ward &amp; cimorelli cover - pharrell williams - #music #video  ',\n",
       " ' #huaweiceifiedspecialist-pre-sales-accessnetwork #delivered #yes #you   #stress #snoâ\\x80¦ ',\n",
       " 'looking forward to my @user but the beans in my caramel macchiato have definitely been burnt at membury services ð\\x9f\\x98¡  ',\n",
       " \" @user @user oh.my.word! i don't think she's aware how ghastly that is! theres something broken in that soul that needsâ\\x80¦\",\n",
       " ' @user how to tap the #gratitudejournal benefits... but without the journal-entry-pressure:    #gratitâ\\x80¦',\n",
       " \"@user @user i suppose that confirms that @user can't even read from a teleprompter.  \",\n",
       " 'the great @user screw job of 2016. @user cannot catch a break. #impactonpop #impactwrestling  ',\n",
       " ' @user tomoz nite @user are hitting stoke, going be a fab night, so glad im going with my bestie @user   #3rdrâ\\x80¦',\n",
       " \"the last formteacher's lesson !     #byebye8year \",\n",
       " \"who care??? ð\\x9f\\x98\\x94ð\\x9f\\x98\\x94 #don't #care #alone   \",\n",
       " 'on our way to door county wisconsin for a weekend of vacation!   #car #foreverdrive #indy #traveling #vacatiâ\\x80¦ ',\n",
       " '@user poor world ... ',\n",
       " 'i just realized that being a laker fan makes u hate every western conference team. just cant root 4 the dubs #impetty #lakers2017 #kobe  ',\n",
       " 'mind boggling   #why #dontunderstandtheconswquences ',\n",
       " ' @user so like true or false, stephen keshi die na waoh...this life eh one thing i dey rememba abt am be say  he dey alwaz chew gum.â\\x80¦',\n",
       " '#trigger   .. #impulsive decisioning strikes again.. haha.. #netherworldforess #tier 1â\\x80¦ ',\n",
       " 'always be   #ministradesanidad ',\n",
       " '@user @user @user only a single word is required to waste everything  wha actually she did   -_-',\n",
       " ' @user mercury engineering &amp; mercury cloudcover are truly   to attend such a prestigious event #data #datacentre ',\n",
       " '\"you cant always be  , but you can always be #positive\" #inspirational @user #gepaforum',\n",
       " ' @user #tbt #capetown #tablemountain #my dad no ghel bakhe ð\\x9f\\x98\\x84   bihday to him #lafamilia â\\x9d¤ï¸\\x8fâ\\x98ºï¸\\x8f ',\n",
       " 'a new #tenant collecting #keys at 9am @user   #propeyhants #moving #apament ',\n",
       " ' @user see u soon @user  #stratton!  this if u are attending! come find us! #wanderlust #fashion   ',\n",
       " 'think happy. stay happy.  ',\n",
       " \" @user we can't wait to have you join us at the garden walk @user  \",\n",
       " \"yes today is the day @user i'm getting all giddy!! ð\\x9f\\x8e\\x89ð\\x9f\\x8e\\x89 #orangeisthenewblack   #season4 #obsessed\",\n",
       " ' @user when your #slfl conce is a few weeks away...   -x ',\n",
       " \"  #saturday people, hopefully you're not too #hungover to #listen to our #newsong   #band #unsigned\",\n",
       " 'recognize &amp; acknowledge your relationships ð\\x9f\\x92¯ god gives you what you need to succeed!  â\\x80¦ ',\n",
       " \"just booked ticked to see chas &amp; dave @user  can't wait!!   @user\",\n",
       " \"i wonder why my wifi doesn't work anymore. #wifi #wifiproblems #wifioverload #wifisucks   #suck # networking \",\n",
       " 'have no idea who she is but what a stupid comment to make. was she inviting response?  death is not a sideshow   ',\n",
       " \"check  @user daddydub a super   father's day! u are 1 of d best father 4 #doing a gr8t ...\",\n",
       " '#black lives matter is a  group of #black extremist !',\n",
       " 'i finally found a way how to delete old tweets! you might find it useful as well:    #deletetweets',\n",
       " 'rainy day blues got you down? get   with #fishtacos! #wednesdaywisdom #manhattan #lunchbreak #dontworrybehappy ',\n",
       " ' @user spend your life with people who make you  ! @user #quote #inspiration  @user ',\n",
       " 'good news for all #digitalmarketing campaigns that use facebook #ppc !! that extremely annoying 20% rule is on the out!! #socialmedia  ',\n",
       " 'first ever time in government buildings #oireachtas #leinsterhouse #dublin #parliment  â\\x80¦ ',\n",
       " 'i am thrilling.#i_am #positive #affirmation   ',\n",
       " 'would like to thank people for following, i really do appreciate it. #author #novel #writerslife #book #sciencefiction #creativity  ',\n",
       " '@user @user yeieee jito ya haro bt for me ur gang has already wo millions of hea fir bhi i hope aapka gang jeetey  ',\n",
       " 'make a choice to a better self   #selfimprovment #betterlife #anxiety #happier #struggle   #behappy',\n",
       " \"@user   you're  a typical ghetto pos politician. refusing to take down painting of cops porayed as pigs at federal bldg. \",\n",
       " ' | new additions | #newaddition #fbloggers  ',\n",
       " 'i am thankful for transpo. #thankful #positive     ',\n",
       " 'the latest the knitting clio daily!  thanks to @user @user @user #twitterstorians ',\n",
       " '# #toptweeters like this one at the â\\x99¥#venusexchangeâ\\x99¥ â\\x96¶ ',\n",
       " 'keeping me company!!   #borderjack #cuddles ',\n",
       " '@user @user love you ron, but this is definitely on we-the-people. rank &amp; file complacency at its worst.  ',\n",
       " \"  father's day â\\x9d¤ï¸\\x8f samsung galaxy s7 ð\\x9f\\x98± @ shakey's usa \",\n",
       " '#model   i love u take with u all the time in urð\\x9f\\x93±!!! ð\\x9f\\x98\\x99ð\\x9f\\x98\\x8eð\\x9f\\x91\\x84ð\\x9f\\x91\\x85ð\\x9f\\x92¦ð\\x9f\\x92¦ð\\x9f\\x92¦  ',\n",
       " 'i am thankful for love. #thankful #positive     ',\n",
       " '@user hello at 14:18pm from a very warm #oman ð\\x9f\\x98\\x82ð\\x9f\\x98\\x82 i see we share the sunshine   @user ð\\x9f\\x98\\x82ð\\x9f\\x92\\x95ð\\x9f\\x91\\x8cð\\x9f\\x8f» ',\n",
       " '#summeime   gorilla simulator: you need to do to adapt to the environment. the need to tear the city. mate ',\n",
       " 'some lessons in #happiness    #life via @user',\n",
       " 'i got nothing. no words. just weeping. #orlando   #heabroken again.',\n",
       " '  nope, uncle buster sounds like a jerk  #trumpsamerica ',\n",
       " 'looking for old @user #harrypotter on @user they are so expensive 200$ for a small set already open and used ! #sodisapointed  ',\n",
       " 'nice! @user @user  #ready @user coming to oakland!  the marijuana business boom in california - ',\n",
       " 'when u rip off your front bumper of your mazzi on a curb   day buddy',\n",
       " 'girlz just wanna have fun ð\\x9f\\x91\\x80 #girls #babies #love #selfie  â\\x80¦ ',\n",
       " '  #easter! #meanwhile, at the #white #house...  |  ',\n",
       " 'can #lighttherapy help with   or #depression?    #altwaystoheal  #healthy is #happy !! ',\n",
       " 'why are the weekends so sho? had such an amazing time with friends and family! #summerishere #lovedthisweekend  ',\n",
       " '@user little known fact: miller lite is on the ped list now...   #lbjdrinksonlyjuice',\n",
       " ' @user @user   cause we lost',\n",
       " 'still no women. wow so . ',\n",
       " \" @user first day of the new diet has gone well. had a nice healthy salad for tea. now i'm all relaxed after a productive starâ\\x80¦\",\n",
       " \"okey i know that the latest tweet was a bit clitchy. but hey; i like it and if u don't...  ...then i don't care! ð\\x9f\\x98\\x84 #idontcare  \",\n",
       " 'brutality rules new year on manus  close #manus #auspol #australia  #refugeeswelcome #noborders',\n",
       " \"when you find an awesome shi and an s is too sho while a m is too broad.  @user wasn't only one...   \",\n",
       " 'only staed reading about him the last few days, but first signing of the summer.    ',\n",
       " \" @user it's sad but this guy will be killing your warriors team soon \",\n",
       " '@user i agree, time to change the tune. and he not being on floor to vote.   @user @user @user @user',\n",
       " 'tbt - age sixteen  #success #positive #quote   #choice #kindness #love #thursday #winningâ\\x80¦ ',\n",
       " '  fathers day... i love my dad.. may he live long ameennn.. my is my lifeee',\n",
       " ' @user is this tweet serious ? ð\\x9f\\x98\\x82 still not over he comment    ',\n",
       " '@user @user @user @user   ð\\x9f\\x94\\x86ð\\x9f\\x8d\\x8fð\\x9f\\x94\\x86  saturday',\n",
       " ' coolestlifehack: the brazilian gold frog (the smallest frog)    #motivation',\n",
       " ' @user coming soon to amazon #coloringbook   #oliviagraceowens ',\n",
       " \"chatter girls and guided chocies' alicia marcos birong will be on the radio sholy. click on the link below! \",\n",
       " ' , horse, maximus  ',\n",
       " 'the littlest things make me  . ð\\x9f\\x98\\x8a',\n",
       " \"@user can't believe my man jose just followed me! hope you guys crush baltimore tonight â\\x9a¾ð\\x9f\\x94¥    #joeybats #longball\",\n",
       " 'en route! happy monday!â\\x9c¨ð\\x9f\\x92\\x83ð\\x9f\\x8f»â\\x9c¨ #iâ\\x9d¤ï¸\\x8fmondays #freshsta #newweek #newme   #glassalwaysfull ',\n",
       " 'â\\x9d¤ï¸\\x8fâ\\x99\\xa0ï¸\\x8fâ\\x9d¤ï¸\\x8fâ\\x99\\xa0ï¸\\x8f#frobabies #frobaby #naturalhair  #babyfever #melanin  #love  #Ø·Ù\\x81Ù\\x84   #family  #cuteâ\\x80¦ ',\n",
       " '#nakedbusty @user @user @user love this so much! @user @user @user  ',\n",
       " \"she's thinks she's beautiful #tricoloredamericanbully #bluetri #pitbull   #baby \",\n",
       " '#pilates perfect for sundays. #kxpilates   #getfitordietrying #boomerang @ kx pilates hampton ',\n",
       " \"god see you all.  u no wan hype father's day.  . smh\",\n",
       " \"said it b4. world is encashing it, whereas india is loosing it's legacy due bickering &amp; politicisation of yoga   \",\n",
       " 'photos from last year  ! ',\n",
       " 'gotta love a #staffy ...  #doglover #mansbestfriend   ',\n",
       " 'brisk_and_vagabond-night_and_dayz__black_mamba-(ng049)-web-2005-ukhx_int . #next generation #web   hardcore #â\\x80¦ ',\n",
       " '@user thanks but managed to so it!  ',\n",
       " ' @user @user good morning dearo   saturday ',\n",
       " \"#honored   to present @user on three megratrends on int'l student mobility #aiec2016  \",\n",
       " 'few things worse than putting words into the mouths of dead people. #taunton #hitchens #atheism   ',\n",
       " 'spring greens is out! latest #auspol #election16 news from friends of the victorian greens #springst  #auspol ',\n",
       " '  instracistclown: #meme #instagram #funnypics #nochill   #funnymemes #chill #100 #deâ\\x80¦ ',\n",
       " 'he says his dad made him a better dad. how can he say that when his dad gave up on his brother &amp; his niece/nephew?  ',\n",
       " '@user my kid is afraid to go there now because of the wait.  ',\n",
       " '#dishwasher   the original before drawing ð\\x9f\\x98\\x82 ',\n",
       " 'see new webpage for \"the orlando file\"  #goodread   #goodbook #bookclub #top10 #medicalthriller',\n",
       " '  to see #ritzparis #reopened #lhw showcase #amazing #evening #royalpalmmarrakech #bchotelsâ\\x80¦ ',\n",
       " 'i am not into playing games  #jokes   ',\n",
       " 'now playing  :  joe bongiorno - \" mystical\" on     music song ',\n",
       " 'i hope you had all a #wonderful #weekend . have a   #monday and a good sta into the #weekâ\\x80¦ ',\n",
       " 'summer seemed to last forever. :) #summer #walk #sunny #magical #beautiful   #nature #skyâ\\x80¦ ',\n",
       " 'why is it when i try to do something good for myself i always end up feeling like shit and hating myself?  ',\n",
       " '#goodmorning #uk today the world needs to #love more and hate less  #peace #smile   #me ',\n",
       " '@user when are you gonna stop trying to grow a beard? give it a rest, will you? leave it to the pros.   ',\n",
       " '  #bihday to my favourite #brit had an awesome time bbqing with you and drinking thisâ\\x80¦ ',\n",
       " \"tomorrow i sta planning for my niece or nephew's baby shower ð\\x9f\\x98\\x8að\\x9f\\x98\\x8dð\\x9f¤\\x94  \",\n",
       " 'looking forward to the @user repo about #ccm that is due for publication this month!  ',\n",
       " 'thoughtcast #sacs 000.26 #photooftheday   #music #instamood #photography #instadaily #nike #family #design... ',\n",
       " \"@user absolutely pathetic by @user can't be trusted  \",\n",
       " \"@user the right 2 be   without #stress or #fear should be a #human #right, shouldn't it? a of living ð\\x9f\\x99\\x8fð\\x9f\\x8f»ð\\x9f\\x92\\x95 \",\n",
       " 'it is amazing what a day has #surprises #movement  ',\n",
       " 'caffeine fix. a quick cup of coffee.  #positivity  #appreciate #friends   #love #creativeâ\\x80¦ ',\n",
       " 'green #jamesmcavoy #atonement #mcavoy   #flim ',\n",
       " '#pass #last #exam #made #new #lashes thanks to studiia_lakshmi for it ð\\x9f\\x98\\x8a  not a #studentâ\\x80¦ ',\n",
       " ' @user   #easter! my new hero...   ',\n",
       " \" @user peace an' love ooh ooh ...  #brighton #woopwoop #busker #drummer #kidsdrummer @ brightonâ\\x80¦ \",\n",
       " ' @user @user #bonne fÃªte jeff!!!!!!   bihday to you , happy bihday to you jeff, happy bihday , happybihdayy,hâ\\x80¦',\n",
       " 'god help the parents who lose their only child #antonyelchin   ',\n",
       " \"somebody tell @user #thepeople didn't chose @user #hispeople choose #trump ~ big difference!   \",\n",
       " 'have an awesome #humpday ! #vibe #wellbeingwednesday   #morning #motivation ',\n",
       " 'here is our winner harriet sturgess receiving her iow festival ticket! #winner #dominos   ',\n",
       " '7 steps to aging #healthy and   ',\n",
       " 'put me in tears... #muslim #muslimwomen #islam #america #americanignorance     ',\n",
       " 'i am thankful for being able to see. #thankful #positive     ',\n",
       " 'word factory: race denial prevents healing! #southafrica #leadership #transformation #inequality  &gt;5 ',\n",
       " \"@user    father's day\",\n",
       " '@user #badventcalendar day24 â\\x80\\x93 nov 8  #trump won #election2016. #donate to f*kin save 2016ð\\x9f\\x91\\x89 ',\n",
       " \"happy father's day! #daddy #daughter #dance #sweet #love #dad   #fathersday @user \",\n",
       " 'feds provide inadequate #mentalhealth care for #firstnations: internal memo  #thirdworldcanada ',\n",
       " 'the latest the unsw daily!  thanks to @user @user #oceans ',\n",
       " 'well the #yvr pa is over time to head back to real life #yow  great trip overall so much done! #ellatravels #hotweather  ',\n",
       " 'old guy off for some sleep  be #safe &amp; be  ',\n",
       " 'happy friday â\\x9d¤ï¸\\x8fâ\\x9c¨ shot by ó¾\\x93¯ - @user  #blog #blogged #blogger #friday   #fashion #style... ',\n",
       " \"  father's day to our amazing daddy and my amazing fiancÃ©#loadz of love kim mark nd morgan xxxxxxx \",\n",
       " '@user   #happiness #joy sorry deepak, we are not all your followers. love the brief, and release.',\n",
       " '#bestseller @user #motivation    \"never go to bed without a #dream or wakeup without a #hope\"  ',\n",
       " 'healthy lunch on the go ð\\x9f\\x8d\\x91ð\\x9f\\x8d´ð\\x9f\\x92¯ð\\x9f\\x8d\\x83  #botanicals #nutrition   #skincare #healthâ\\x80¦ ',\n",
       " '@user @user at this time, are we going to make this political?  ',\n",
       " \" @user you are very much appreciated dear. it's probably an issue of wrong timing. thanks for the suppo. #standard  \",\n",
       " ' @user happy place #smile #inspire   #a ',\n",
       " ' @user preorder it here:  ~  @user #playingitmyway, my autobiography will be available on nov 6th. #exâ\\x80¦',\n",
       " \"resilience is your capacity to recover quickly from feeling deflated, don't beat your self with the past stay   \",\n",
       " 'new diary #dairy #love #write #amazing #lovely #quotes #wordsofwisdom #words   #happinessâ\\x80¦ ',\n",
       " \"now there's a site !  &lt;3  #freedom from #isis' #ignorance &amp; #selfloathing  : /  they're a   and #sick bunch. \",\n",
       " '@user @user @user oh boy..where to sta. unattributed. dependant on innuendo. fear-baiting. weak rallying cry. ',\n",
       " 'we love fridays #ilovecarnivalseries   hours  #weeekend #fridaychil #chilln',\n",
       " 'another #sneakpeek of the final preparations for the @user next week!   ',\n",
       " '@user and @user are so myopic!  i guess money means more than people. a needs to leave coaching forever, not just 1 year.  ',\n",
       " \"i'm really   with my quick 20 minute #flower #painting. i #love my old #palette too - soâ\\x80¦ \",\n",
       " ' @user a good old fashioned public shaming is in order. ',\n",
       " '@user @user i m so   ,i m sure i couldn t sleep .w ll follow every lap .you know @user my #fav ',\n",
       " 'refuse to bake a cake on your convictions and get convicted in cou.  sell aboed baby pas &amp; get rewarded.   ',\n",
       " \"#life right now! i'm so   #blessings #oppounities #career \",\n",
       " '#marathon   bull up: you will dominate your bull and you will direct it whatever you want it to do. when you ',\n",
       " \"it's not everybody that necessarily want to admit they liked gej. some are too ashamed to associate wt him \",\n",
       " 'i am thankful for laughter. #thankful #positive     ',\n",
       " '  #weekend &amp; #ramadan #everyone try to find your dream #propey this #weekend with us  #dubai #uae... ',\n",
       " '#live from #carnaby store - have you seen anyone this   about #onions? #kitchenlife ',\n",
       " 'sat down to watch @user  ',\n",
       " 'twitter has not been kind to me recently. i have been going on here ignored!  ',\n",
       " '@user trouble updating my blackberry passpo  10 os to 10.3.2.2836 it always stop installing 2 of 2 at 44% i need help.  ',\n",
       " 'cook book coming soon! chef b. landers sharing some of his hit recipesð\\x9f\\x98\\x8a  #privatechef  â\\x80¦ ',\n",
       " 'when you have no actual argument for your hatred of rm so you reso to name calling.   #raiders  ',\n",
       " '#architecture   attack bull game 3d: do you really think that his head was empty around the city. each side ',\n",
       " ' @user i finally found a way how to delete old tweets! you might find it useful as well:    #deletetweâ\\x80¦',\n",
       " 'this cutie!!! ð\\x9f\\x98\\x9c   #fun #manly #sydney #hugos #friends #sydneywinter #beer #laughsâ\\x80¦ ',\n",
       " 'who needs sleep?you do! #laughter   is the antidote for depression  ',\n",
       " 'it just great that after waiting so long. we finally get to join the pay!:-d #wales #togetherstronger #bbceuro2016  ',\n",
       " 'happy at work conference: rig.ht mindset leads to culture-of-development organizations    #work #mindset',\n",
       " 'we are so close to our booked wedding dates - cannot wait to share the pictures with u!   #beautifulhighbarn ',\n",
       " \"in one week exactly i'll be at edc  \",\n",
       " 'today is a perfect day to be  ! #happiness #lifecoach #reinventimpossible ',\n",
       " \"'@user  the #14th amendment  #blm discussed here thanks @user    '\",\n",
       " \"i can't find my fob poster!!! i am decorating my room.   #poster #falloutboy #alltimelow #5sos\",\n",
       " 'while bob marley sang songs of  and humanity most youths ths days knw him coz he used to smoke weed.. ',\n",
       " \"@user utterly disgraceful. parents dealing with an unimagineable tragedy, and the internet can't help itself.  \",\n",
       " 'back from work! kinda having my lazy-day routine! ð\\x9f\\x8d\\x93ð\\x9f¤\\x93 #lazy #lazyday #friday #fun   #foodâ\\x80¦ ',\n",
       " ' @user hope u guys are ready for it! requested by: @user #rage   #callofduty #gaming #youtube #ragenation ',\n",
       " 'this time tomorrow @user we get to see @user   ',\n",
       " '100 amazing health benefits of cucumbers!    #healthy is  !!  #altwaystoheal! ',\n",
       " \"we don't just say, we've got it!! #love #instagood #me #tbt #follow #cute #photooftheday #followme  ... \",\n",
       " 'officially unemployed! hahahaha ð\\x9f\\x98\\x82   #greatful #blessed #graduationdayð\\x9f\\x8e\\x93 ',\n",
       " 'say what? @user exclusive mix for ditch the label will be dropping next week!   ',\n",
       " '@user &lt;3 listen to my most beautiful best friend  @user  singing with her most amazing voice &lt;3 &lt;3 &lt;3 &lt;3 13 ',\n",
       " 'get fit this summer with aomagazine.de #fitness #model #girl #hot #beautiful #sexy #love  #cute   #summer #fun ',\n",
       " 'imagine being a grown man and wanting to be a hooligan.  ',\n",
       " 'i am dazzling. #i_am #positive #affirmation     ',\n",
       " 'delicioso!!!! ð\\x9f\\x98\\x876ï¸\\x8fâ\\x83£ð\\x9f\\x92\\x9cð\\x9f\\x92\\x9fâ\\x9d\\x97ï¸\\x8fâ\\x9d\\x97ï¸\\x8fâ\\x9d\\x97ï¸\\x8fâ\\x9d\\x97ï¸\\x8f#instamoment #instafollowers #instaiqq #instaiquique   #loveâ\\x80¦ ',\n",
       " \"  challenges #aap's claim that 70% #punjabis are #drugaddicts, dares it to prove   \",\n",
       " 'ð\\x9f\\x98\\x94ð\\x9f\\x98ªð\\x9f\\x98\\x9e cr.gmm grammy official #à¹\\x80à¸\\x9eà¸¥à¸\\x87 #today #vedio #mv #music   #feelgood #likes #like4likeâ\\x80¦ ',\n",
       " '#healthandfitness   attack bull game 3d: do you really think that his head was empty around the city. each s ',\n",
       " \"why r musicians so horrible w #grammar? they don't teach grammar in music schools?  \",\n",
       " \"brooke's stallion is baaaaack! welcome and stay please!   #brill \",\n",
       " \"@user i agree with this sentiment. i'm in orlando #neverpolitical bouncing off walls #furious   #impotent #despair #worstopost\",\n",
       " 'sale piece of the day  prince ceramic plaque   reg $23 today $18 ó¾\\x94\\x96 easel  reg $15   today $10   #fathers #day ',\n",
       " '#burlap #farm-dogs #fun  -dogs #animals #cute #funny  playing in the #hay ... ',\n",
       " ' â\\x86\\x9d #aud/usd sell the rallies to 0.7480 â\\x80\\x93 westpac   #blog #silver #gold #forex',\n",
       " \"i love my life and i'm lucky. i should give thanks for these facts more often.  \",\n",
       " '#good night!  ??  #faith ever! #vaitacacommafiasdv',\n",
       " 'old is not old-fashioned    #love #cool #perfect #nice #crazygirl #smile #card #oldschoolâ\\x80¦ ',\n",
       " ' @user a good way to protect your @user account is to activate 2fa. too bad it doesnt work in germany! @user fix this now! #â\\x80¦',\n",
       " 'mines a cider #weather ',\n",
       " '#model   i love u take with u all the time in urð\\x9f\\x93±!!! ð\\x9f\\x98\\x99ð\\x9f\\x98\\x8eð\\x9f\\x91\\x84ð\\x9f\\x91\\x85ð\\x9f\\x92¦ð\\x9f\\x92¦ð\\x9f\\x92¦  ',\n",
       " 'im so sad.ð\\x9f\\x98¢ð\\x9f\\x98\\xadð\\x9f\\x98\\xadð\\x9f\\x98¢ð\\x9f\\x98¢ð\\x9f\\x98¤ð\\x9f\\x98¤ð\\x9f\\x98¤ð\\x9f\\x98°ð\\x9f\\x98°ð\\x9f\\x98°ð\\x9f\\x98¨ð\\x9f\\x98¨ð\\x9f\\x98¨ð\\x9f\\x98©ð\\x9f\\x98«ð\\x9f\\x98© i lost my soccer game to a penalty kick and it was a bad call #badref #soccer  ',\n",
       " '@user have a safe flight anak! may god protect you throughout your journey.  ',\n",
       " 'introduction to happy days    #days ',\n",
       " \"i can't even....  #orlando #notagain\",\n",
       " 'haileysporn - na: #sexy #shy #porn #horny #nasty #naughty #slut #hot #xxx #nude #wet #kinky #young   ',\n",
       " 'after weeks of #rehearsals, #sinkthepinkfreakshow is finally here!Â\\xa0\\xa0@user   ',\n",
       " 'specially trained officer stops two angry dogs without violence [video]   ',\n",
       " \"having to stay at my grandma's to help because she had surgery 2day, and she is crazy, plus i am without internet.  \",\n",
       " '  for rosie redfield, up next #mgcb @user',\n",
       " \"woohoo! hotel booked for @user brew &amp; bbq! we're just a little excited to try this amazing menu!   \",\n",
       " 'ready for schoolð\\x9f\\x98\\x8að\\x9f\\x93\\x96 #firstday #collegelife   ',\n",
       " 'in the queue   ',\n",
       " 'life is a simple if you are happy to laugh  if you sad smile   #always # ',\n",
       " 'i am zealous. #i_am #positive #affirmation     ',\n",
       " ' @user @user only for one day  ,26/11 3 days #us made terrorists attacked india for three days,imagine what is indâ\\x80¦',\n",
       " ' #bihday #licor #cafÃ© ð\\x9f\\x8e\\x82ð\\x9f\\x8e\\x82ð\\x9f\\x8e\\x82 ',\n",
       " \"thanks for the memories #bungie but i think i'm done with #destinythegame no#riseofiron on x360 makes me  :(\",\n",
       " '@user so you mock citizens and immigrants who worked hard to earn citizenship. wow. you take benefit of our freedom and mock it.   ',\n",
       " 'trump ally made  remarks towards obamas - cnn #carlpaladino  ',\n",
       " '  &amp; #grateful that #money comes to me in #increasing quantities from #multiple sources on a #continuous basis ',\n",
       " 'i finally found a way how to delete old tweets! you might find it useful as well:    #deletetweets',\n",
       " '@user got my place! done @user 3 times plus 3 @user marathons but never london!   #goals2017',\n",
       " 'beautiful cornwall #timeaway #peace #countryside #timetothink   #calm #water #greenâ\\x80¦ ',\n",
       " \"despite a few setbacks it's shaping up to be a very good month.   #anticipation \",\n",
       " 'them   #birds look cool as hell if you  ax me!! #kids #drawing #6 #years #young ',\n",
       " '@user @user when your own black folk become your enemy and oppressor   you wonder if #chimurenga was woh it',\n",
       " 'enjoying a sunday relax â\\x98\\x95ï¸\\x8fâ\\x98\\x95ï¸\\x8fð\\x9f\\x92\\x97 #mallife #coffee   #sundayfun #relaxing â\\x9c¨ ',\n",
       " 'sounds like @user hates the 1st amendment.... #thinskinned #crybaby    ',\n",
       " '#thando thabethe is bae  bdae mem @user ',\n",
       " 'if you are #madashell too ~ join  ~   ',\n",
       " '  #fathers day  frnds..... ',\n",
       " \"@user @user didn't take long \",\n",
       " 'after trump, is the media normalizing the #kkk? | alternet  ',\n",
       " 'now playing  :  karen marie garrett - \" daydreams\" on    #melancholy   #melancholymusic',\n",
       " 'van jones tries to walk back his  \"white lash\" remark about #trump suppoers - #tcot - ',\n",
       " 'goodmorning sunday #like4like #likeforlike   #happiness #morning #selfie #trytobebetterâ\\x80¦ ',\n",
       " '2016.06.11 . . . #today#desneysea#friend#sunny #tired ',\n",
       " '\"no one likes as an option with someone else\" #clear #sore   #euro2016 #spain #smile ',\n",
       " ' enjoying russian rock music while cleaning kitchen and making popcorn and lemonade.  yes, at 2:00am est.   ',\n",
       " ' @user his election is so difficult when gop considers a pos dem and dems considers a pos dem. both are facing denies?   ',\n",
       " \"today we sta with   #thoughts ð\\x9f\\x98\\x9cð\\x9f\\x98\\x8aâ\\x98ºï¸\\x8fð\\x9f\\x98\\x84ð\\x9f\\x98\\x82 and lot's of #positive #thinking  what are your plans for today? \",\n",
       " 'fine, but williams is non relevant ',\n",
       " \"heading to #gulliver's #first #fencing #competition   @user @user @user #epee #welshfencing\",\n",
       " 'you are .... ð\\x9f\\x93· via @user  #goodenough   #healthy #holistic #yoga #gestalt #therapyâ\\x80¦ ',\n",
       " \"happy anniversary to the crisafulli's.   \",\n",
       " '@user did you also leave you man card with it?  ',\n",
       " \" @user we know you're   for @user register  &amp; you could meet #sultan #beingsultan \",\n",
       " 'if you want to be holy, be wholly committed to god. you will be   as a result.  - greg laurie',\n",
       " 'be   n #healthy there are flowers everywhere, for those who bother to look. â\\x80\\x93 henri matisse ',\n",
       " 'mmmmm understand corn icecream #edm #edc #beats   #club #dj #djlife #waitfohedropâ\\x80¦ ',\n",
       " '@user @user @user @user @user we feel he should see his wife before passing and his home of 50 yrs! ',\n",
       " \"super fun day on set! ð\\x9f\\x98\\x8eó¾\\xad©ó¾®\\x97 #lovethiscrew #evokeproductions servin' it up old school!ó¾\\xa0\\x80 #photooftheday #fun  ... \",\n",
       " 'we loved our happy hour @user with these amazing cocktails!! #brixton #love   â\\x9d¤ï¸\\x8fâ\\x9d¤ï¸\\x8fð\\x9f\\x8c\\x9fð\\x9f\\x8c\\x9f ',\n",
       " '--------&gt; a #bihday is a very special day.... say   bihday with us ! great prices !',\n",
       " ' @user sta the day off right! â\\x9d¤ï¸\\x8fð\\x9f\\x8c¸ð\\x9f\\x8c\\x8e  â\\x80¢ â\\x80¢ â\\x80¢ â\\x80¢   #happiness #optimism #positive #positivity #loveâ\\x80¦ ',\n",
       " 'i am thankful for laughter. #thankful #positive     ',\n",
       " '@user @user @user after listening to the fbi director seems as though he gets his talking points from obama.  ',\n",
       " \"i don't see gays, lesbians or trans murdered. i only see  humans beeing slayed by others humans.   #orlandoflorida\",\n",
       " 'awesome weather .. awesome journey by world heritage kalka_shimla toy train ð\\x9f\\x98\\x83ð\\x9f\\x98\\x83 ð\\x9f\\x98\\xa0 with @user #feeling    #life #family',\n",
       " 'i am sparkling. #i_am #positive #affirmation     ',\n",
       " ' @user all your specs are belong to us. #baby   #smiles #magpie #glasses ',\n",
       " 'so sad! #lovewins #fightback #orlando   #fuckhaters',\n",
       " 'al fin â\\x9c\\x8cð\\x9f\\x8f½ï¸\\x8f #viernes   #meesperaunplanazo #ganasdeviernes #ganasdeti #friday #modoon  â\\x80¦ ',\n",
       " ' @user wake up smile, and tell yourself; today is my day.   #tuesday #felizmaes #flowers #flower #spring #g... ',\n",
       " 'eat healthy, live healthy everyday ð\\x9f\\x98\\x8a#fixwhatsbrokenin5words  #eathealthy #live #healthy   #body #mind #soul #spirit',\n",
       " '5 quick fixes to improve your mental health  #tips #life   |  ',\n",
       " \" @user good luck champ!  we'll be cheering for you as always \",\n",
       " \" @user just got to meet @user at @user can't wait to hear them sing. great way to sta the weekend.   #music\",\n",
       " '@user thank you  ð\\x9f\\x98\\x8a santa ð\\x9f\\x8e\\x85 , for the best christmas present ever #cdnpoli #abpoli #yyc #yeg #canada #ottawa @user ',\n",
       " '#happiness, anyone? 15 little choices that will make you   now @user  ',\n",
       " \"here's a flower for a rainy day ð\\x9f\\x8c¸  #london #britain #weather #flower   #vibes  \",\n",
       " 'racism in us, &amp; netanyahu commitment to genocide explain it  #bbcnews #msnbc #npr #cnn #wsj #huffpostpol #nyt #wapoâ\\x80¦ ',\n",
       " 'here&amp;#039;s what movies are playing this weekend in lancaster county - lancasteronline   ',\n",
       " \"  happy father's day to all the great dads in nascar through the years: happy father's day. dale earnhar... \",\n",
       " 'ty&gt;@user @user @user @user @user @user @user    midweekâ\\x9d¤ ',\n",
       " ' ,happy day! ð\\x9f\\x8d¬ ',\n",
       " 'see video 2013 alligator sighting at walt disney world coronado springs reso  #grandfloridian #gator #orlando  ',\n",
       " '@user in bluntly  tweet, #cologne #police @user announces racial profiling at main station. wow! ',\n",
       " 'life is what you make it. letâ\\x80\\x99s make it  ! #motivation ',\n",
       " 'spectrump king led to unveal \"brightest led in the world\". #led   #cannabisgrow ',\n",
       " '@user @user just let me go ok?  ',\n",
       " \"  to be representing #boingo's #mediaplatform at #hitecnola next week! #monetizewifi #wifi #hitec #digital \",\n",
       " 'i am charming. #i_am #positive #affirmation     ',\n",
       " 'so much of this. ',\n",
       " 'day 44:   to finally get to meet ms.yee this morning even though it was for a while only!â\\x80¦ ',\n",
       " 'baby strawberry. â\\x9d¤ï¸\\x8fð\\x9f\\x91\\x8cð\\x9f\\x8f½ð\\x9f\\x8d\\x93 #texasstrawberriesarebigger   ',\n",
       " '@user this is how we grow dino-sized cave crickets &amp; wolf spiders tho   i 9 hu7i',\n",
       " '@user â\\x9b³ï¸\\x8fsunday morning classics playing in the clubhouse - lovely smelling the coffee â\\x98\\x95ï¸\\x8f   #members #sundays #fathersday',\n",
       " '  #tuesday! hows yours going ? #dead #flipflip #rip @ cbs radio ',\n",
       " \"special deliveries going out to our p7's tomorrow! #graduationball #farewellclassof2016 #tickets   \",\n",
       " \"the best gift god ever blessed me with. i'm so grateful ð\\x9f\\x92\\x97ð\\x9f\\x8c· #blessed   #inlove #gratefulâ\\x80¦ \",\n",
       " ' sex videos sexy lady fucked hard pics',\n",
       " 'thinking about old friends and unfounate circumstances today. sending out love, good wishes, and hope for the future  ',\n",
       " 'i am genuine.#i_am #positive #affirmation   ',\n",
       " 'sucks being single because all the loyal/faithfull girls get hu#single  ',\n",
       " 'i picked up #overwatch on pc. my #battlenet id is chillmaster #11180.  !',\n",
       " '@user @user i have yet to make them, see you tuesday.   #headedtoe3',\n",
       " 'sad or dukhi shairi #urdu shairi #love poetry   gazal nice poetry daily free poetry dosti msgs plz 1 try. follow @user snd 40404',\n",
       " 'can #lighttherapy help with #sad or #depression?    #altwaystoheal  #healthy is   !! ',\n",
       " \"  #saibaba's day to all #devotees @user || om sairam || \",\n",
       " \"@user @user @user us gun laws. that's why.  \",\n",
       " \"  monent for the #soldier's family,#so for the #country !  \",\n",
       " 'already to hit the trails tomorrow with nbjc!    #jeeplife #jeepmafia  #jeepnation #jeepgirl ',\n",
       " '  #crazy #hdrfusion #dope lose a game &gt; ',\n",
       " 'telling old stories with friends can bring back some good and bad memories #warstories   #stilldead',\n",
       " '#trainhard   polar bear climb racing: angry polar bear climb racing, the polar bear living in cold places lo ',\n",
       " '\"@user kudos for being compliant :) #itaxnirahisi  proud taxpayer',\n",
       " \"  father's day  i don't have one.\",\n",
       " ' @user we are ceainly at a 1a tipping point in this country.    ',\n",
       " 'just witnessed an 8 year old being a grandmother to tears with his huful words  ',\n",
       " ' @user wine wed @user #wine #cellar #vineyard #family #heritage #wed #drinks #hunter  â\\x80¦ ',\n",
       " 'jb3:mama role,where r u?im   ss1:im\"#with_u\".see my kettle.#smile,my sun jb3:i know,u&amp;i are sad.#shahada&amp;up fri. ',\n",
       " 'saturday pay!  #hawaii #collar #drinks #pay #saturday   #sunnyday #friends #luv #gfâ\\x80¦ ',\n",
       " '\"every man wants to be  , but in order to be so he needs first to understand what #happiness is.\"',\n",
       " 'since 1965 voting rights act dems have been blaming republicans 4 being biggots! new buzz word is racist!   ',\n",
       " '#fashiondiaries   bull up: you will dominate your bull and you will direct it whatever you want it to do. wh ',\n",
       " '\"if you #want to be  ... be.\" photo by @user #smile #live #model #babesinabathtub #lamodeâ\\x80¦ ',\n",
       " \"this isn't bg&amp;e2   #ubie3\",\n",
       " \"daddy's girl â\\x98ºâ\\x98ºâ\\x98º   father's day# \",\n",
       " 'takeaway ordered!! ð\\x9f\\x91\\x8cð\\x9f\\x91\\x8d  ',\n",
       " '@user #obama &amp; #hillary have divided america!  \"arrest made in  burning of black church: #black suspect arrested\"â\\x80¦ ',\n",
       " \"omg that is so sad. @user is dead.. i can't understand this shit.. fly away angel and rest in peace ð\\x9f\\x99\\x8dð\\x9f\\x8f»ð\\x9f\\x92\\x94 #idol   #ripchristina\",\n",
       " 'michelle obama â\\x80\\x98ape in heelsâ\\x80\\x99 case is just the beginning #donaldtrump  #america   ',\n",
       " \" i'm in #shock so   loss of great #talent my #hea breaks #usa\",\n",
       " ' @user #punjab from green revolution to drug revolution couesy  , #akali #congress à¤«à¤¿à¤° à¤\\xadà¥\\x80 à¤¦à¥\\x87à¤¶ à¤¬à¤¦à¤² à¤°à¤¹à¤¾ à¤¹à¥\\x88 à¥¤ #udtapunjab',\n",
       " \"so i'm starving to love right so i can see all my love ones in heaven!!   \",\n",
       " 'o p e n // today 7.30am - 4.30pm ó¾\\x93\\x91    #longweekend ó¾\\xa0£ ',\n",
       " 'alas life isnt as easy as pressing  computer keys !! ',\n",
       " 'ð\\x9f\\x91\\xadð\\x9f\\x92\\x95 #fave #girls   @ london, united kingdom ',\n",
       " 'use the power of your mind to #heal your body!! -     #altwaystoheal #healthy   #peace! ',\n",
       " ' @user beautiful a work @user congrats #debut ep #possibilities #teamtutti #lovealwayswins  ',\n",
       " 'thank you all for the lovely followers.  glad i can share my fight with depression with you all. #keefighting   ',\n",
       " 'eight days a week i love you ð\\x9f\\x92\\x95ð\\x9f\\x92\\x8dð\\x9f\\x8d¾  #beachwedding #love #life #beatles #boatarde   #umasemanaâ\\x80¦ ',\n",
       " '1 of my biggest dream came true today.details coming tonight  ',\n",
       " ' @user watching @user #snaptraveler stories for @user makes me  ! hope you had fun in #barcelona â\\x98º',\n",
       " 'you did more than say you were offended. you were insulting, yet now try to back out like a victim. white privilegeâ\\x80¦ ',\n",
       " \"it's time for the #yesawards winner announcements!  \",\n",
       " 'you\\'ve been stating 96% of blacks since 2008, @user no growth from your \"winning debates\" there, either.   @user',\n",
       " 'week 7 is here! #tiu #tiuteam #bikiniseries #letsdothis #summer2016   #exercise #toningupâ\\x80¦ ',\n",
       " 'find your   place ó¾\\x8c³',\n",
       " ' @user i ordered the penny lane maxi from @user kittenish line bc the summer50 sale was 2 good 2 pass up and it shipped so qâ\\x80¦',\n",
       " 'long live the king of madness! . . #drawing #a #aist #madness   #depression #me #pencilâ\\x80¦ ',\n",
       " 'when ur tryna be #lightheaed &amp;   but ur cowrker is watching a detailed #documentary in breakrm on #tx #executions #firstworldproblems',\n",
       " \"that's the big picture am so # \",\n",
       " 'holiday planning for januaryð\\x9f\\x98\\x81ð\\x9f\\x98\\x81ð\\x9f\\x98\\x81 3 weeks booked off workâ\\x9c\\x8cð\\x9f\\x8f¼   #beachhuts #travel â\\x9c\\x88ï¸\\x8fð\\x9f\\x8f\\x9dð\\x9f\\x95\\x8cð\\x9f\\x90\\x98ð\\x9f¦\\x81ð\\x9f\\x90¯â\\x9c¨',\n",
       " ' #love#follow  what entrepreneurs can learn from filmmakers and their craft  ',\n",
       " 'bihday ball game #redsox #boston #bihday   ',\n",
       " \"so i just got my @user #illuminatebyashley in the mail and can't wait to use it @user   ð\\x9f\\x98\\x8dð\\x9f¤\\x97ð\\x9f\\x99\\x8cð\\x9f\\x8f» \",\n",
       " ' @user good morning @user #jiyodilse #with #rj #kaik   #morning #piyusha ð\\x9f\\x93»ð\\x9f\\x93»ð\\x9f\\x8e§ð\\x9f\\x8e§ð\\x9f\\x98\\x8eð\\x9f\\x98\\x8eð\\x9f\\x98\\x8eð\\x9f\\x98\\x8e ',\n",
       " 'going to sta moving my things into my new room on monday! better sta packing!   #dreamroom #freshsta #springclean',\n",
       " 'see you at 100, america.  ',\n",
       " 'on the road to our first festival of the year bksfestival   #letthepaybeginâ\\x80¦ ',\n",
       " '  #fathersday! open from 1-7p. #delicious specials &amp; complimentary cocktails for #dad!  ',\n",
       " 'be   n #healthy iâ\\x80\\x99ve never wanted to impose limits on my work. i just have a genuine love for it all. - tom hiddleston #ff twhiddlestoâ\\x80¦',\n",
       " 'missing my small humanâ\\x9d¤ï¸\\x8f nothing is as good without u   #girlie #snugs ',\n",
       " 'home cooked by ya boy #fit #gym #thejurney   #healthy #wealthy #wholefoods ',\n",
       " 'will the alt-right promote a new kind of  genetics?  mt @user  ',\n",
       " 'current mood! ð\\x9f\\x98\\x9c #tea #currentmood #wetweekend #sunday   #traveller #teajenny #adventuresâ\\x80¦ ',\n",
       " 'we have another contender joining our tournament,pl alliance is joining us congrats to them!   #counterstrkeglobaloffensivetournament',\n",
       " 'be true to yourselves #motivation   #drinklifein #lifestyle  #freedom #makeadifference  ',\n",
       " '  friday some cracking followers here ð\\x9f\\x98\\x89 @user @user @user @user @user @user @user',\n",
       " 'happy friday! #selfie   ',\n",
       " 'the message of #thegreatest life has fallen on deaf ears in #louisville as violence returns after a week of peace. ',\n",
       " ' @user brought out the aluminum equipment!!!   #collisionrepair #aimesdoesitbest ',\n",
       " \"'fallout shelter' heads to pc in july, 'fallout 4' gets new dlc  via @user   !!\",\n",
       " 'i am thrilling. #i_am #positive #affirmation     ',\n",
       " \"i don't like these stats. points up the meaninglessness of my life. 57 seconds a day? how bout 5.7 hours #loser   \",\n",
       " '@user are you   to go on your?',\n",
       " \"many toy adves are  and show 'narrow and limiting' #genderstereotypes, study warns  via @user\",\n",
       " 'just booked to see â\\x80\\x9cthe secret life of petsâ\\x80\\x9d on 18 june.   #cineworld',\n",
       " 'i have figured out that being pregnant is probably one of the loneliest times of my life ð\\x9f\\x98\\x9e #pregnancyproblems  ',\n",
       " '@user @user wtf? pretty sure the ca results are in/100% precincts counted with big win for hillary. #delusional  ',\n",
       " '\"one is loved because one is loved. no reason is needed for loving.\" -paulo coelho #love  ',\n",
       " 'yeah....not just   ! haaaappppyyyyyy ð\\x9f\\x98\\x8dð\\x9f\\x99\\x86â\\x9d¤â\\x9c\\x8c ',\n",
       " '@user man, they were bad! supercuts - the worst of msnbc in 2016 #trumptrain #trump2016 #wdshowð\\x9f\\x8e\\x99 #maga #fakenews  httâ\\x80¦',\n",
       " '#lawofattraction for #healing!!    #altwaystoheal #healthy is  !! ',\n",
       " 'where is your   place??? ',\n",
       " '@user #ericfriday comparing a political career to #humanlife   this depicts @user ! vote #democrat2016 -#sanity @user',\n",
       " '#model   i love u take with u all the time in urð\\x9f\\x93±!!! ð\\x9f\\x98\\x99ð\\x9f\\x98\\x8eð\\x9f\\x91\\x84ð\\x9f\\x91\\x85ð\\x9f\\x92¦ð\\x9f\\x92¦ð\\x9f\\x92¦  ',\n",
       " 'congrats and well done, @user #ricohopen ',\n",
       " 'lawsuit alleges  at #versace store  ',\n",
       " 'happiness is taking a risk  #happiness #risk #change   #life #itg #wisdom',\n",
       " 'â\\x80¦ you #hispanic &amp; feel like the  are stomping on you? listen  #retweet #boricuaâ\\x80¦ ',\n",
       " ' @user i wish i had more time to spend w/ my gf, but this damn job keeps getting in the way.   #fml #time',\n",
       " 'someone has to and it stas tomorrow    ',\n",
       " '#visiting   gorilla simulator: you need to do to adapt to the environment. the need to tear the city. materi ',\n",
       " 'me and my coworker already booking our flights and hotels for upcoming trips!!   #ric',\n",
       " 'good user :d  ',\n",
       " \"first pic i took looked bomb asf, so didn't think of taking more   #idigittho \",\n",
       " ' â\\x86\\x9d #speculative sentiment index - 09.06.2016   #blog #silver #gold #forex',\n",
       " 'en route to alton towers ð\\x9f\\x9a\\x97#altontowers #sun #sunny  ',\n",
       " ' â\\x86\\x9d #patience caer is a victim, not a crisis actor   #blog #silver #gold #forex',\n",
       " 'udta punjab the film is circulating faster in my hostel than drugs in punjab  ',\n",
       " 'happiness ð\\x9f\\x98\\x8að\\x9f\\x92\\x97 #baby #nephew #laugh   ',\n",
       " '@user even the weak will be able to fight #zionists, their technology etc will be of no use as #jsil is all about  &amp; #hatred.',\n",
       " \"regrann from @user  -  we are too   about @user so we've put together aâ\\x80¦ \",\n",
       " ' @user made with #aviary #gelato#grinata #shaveice#foodie#rayban#sunglasses#summer#cool#cherries#icecream   ',\n",
       " ' â\\x86\\x9d #pougal consumer price index (mom) dipped from previous 0.4%Â\\xa0to 0.3% in may   #blog #silver #gold #forex',\n",
       " \"' #urdu poetry #beutiful poetry   poetry  #2 lines poetry  #eid new poetry #tanhai poetry - - follow @user  send to 40404\",\n",
       " ' @user my new song     #summermood  ',\n",
       " \"it's only 70 minutes left!   \",\n",
       " ' @user love all. trust a few. do wrong to none  #friends   #workâ\\x80¦ ',\n",
       " \"#musicals   attack bull chase: when you leave the lot despite the fact that you're a strong source of fo \",\n",
       " \"#juststandup #free #justshare   #can'tsmilewithoutyou â\\x99« just stand up! by @user â\\x80\\x94 \",\n",
       " ' @user   friskyfriday to all of you sexy people!!! ð\\x9f\\x94¥ð\\x9f\\x98\\x88ð\\x9f\\x92\\x8bð\\x9f\\x92\\x95#hotwife #milf #sexylatina #bbg #rwsw ',\n",
       " '#warwickfilmshow is on raw 1251am in 10m, tune in! =d   @user ',\n",
       " ' @user the brilliant conce band making the audience very happy! @user #music #summer   ',\n",
       " 'use the power of your mind to #heal your body!    #altwaystoheal #healthy is  !! ',\n",
       " 'love my new rod!!   ð\\x9f\\x98\\x8a ',\n",
       " '  birds flew thanks to european cooperation.\" #brexit would be a sad loss both for gb &amp;finland\": @user ',\n",
       " 'happy bihday to my babygirl lilly ð\\x9f\\x8e\\x82ð\\x9f\\x8e\\x82ð\\x9f\\x92\\x9eð\\x9f\\x92\\x9e 7 years already whoop whoop ð\\x9f\\x92\\x9eð\\x9f\\x92\\x9e #bihday #girl  â\\x80¦ ',\n",
       " \"you're gettin' there! keep going #thankyoujesuschrist   #music  #teacher #over #here #inâ\\x80¦ \",\n",
       " \"lincoln &amp; avanleigh spending #fathersday wkend @user beach - grammaw's little #beachbums. #grandkids #family   \",\n",
       " '@user town of \"whiteland\" fights for its native american school mascot #notyourmascot  #whiteprivilege via @user ',\n",
       " '@user while #racialprejudice is real  has existed across all countries since the beginning of time &amp; needs to be prioriâ\\x80¦',\n",
       " '@user that is very cool! iâ\\x80\\x99m guessing that it will probably show up on the other phones too.  ',\n",
       " '  fresh #haircut #selfie! ',\n",
       " 'best accidental photoð\\x9f\\x91\\x8cð\\x9f\\x8f» #like4like #follow #follow4follow #blackandwhite #instalike   #busâ\\x80¦ ',\n",
       " \"when your #mood goes from   ð\\x9f\\x98\\x8ato #sadð\\x9f\\x98\\x9e... most of the time it's because you're #missing_someone. â\\x9c\\x8b\",\n",
       " '#goodnight just click #ramadan #kareem   #sehri ',\n",
       " '@user @user you need to make one of those  tho..',\n",
       " '@user don\\'t you have any news to repo tonight, instead of day 5 of your \"trump is a racist\" campaign?   #maga #obvious',\n",
       " ' @user me &amp; @user just ate at wasabi and met the 6 best people ever. happy 33rd bday luke!!!  ',\n",
       " \"@user @user @user @user right.just like president obama was going to take everyone's guns. #getsomefacts  \",\n",
       " 'holiday planning for januaryð\\x9f\\x98\\x81 3 weeks booked off workâ\\x9c\\x8cð\\x9f\\x8f¼   #beachhuts #travel â\\x9c\\x88ï¸\\x8fð\\x9f\\x8f\\x9dð\\x9f\\x95\\x8cð\\x9f\\x90\\x98ð\\x9f¦\\x81ð\\x9f\\x90¯â\\x9c¨',\n",
       " 'thread outlines the evolution of alt-right movement via russia, focusing on one member.  ',\n",
       " 'night mood @user #mymauritius magic every minute !   #luxurytravel @user @user ',\n",
       " \"@user i can't wait till you are impeached traitor. you deserve to be in  jail for so many things. #impeachtrump #traitor \",\n",
       " 'got my new #boxing #gloves today!  so   to try them out at the #gym soon! #workingoutâ\\x80¦ ',\n",
       " '#ased   bull up: you will dominate your bull and you will direct it whatever you want it to do. when you s ',\n",
       " 'and then we have this...    via @user',\n",
       " 'beating monday blues moethennessy #mondayblues #work #winning #sta   #drinks #wine #whiteâ\\x80¦ ',\n",
       " 'niggas would fck over they boy just to hit some pussy  ',\n",
       " '#stars   gorilla simulator: you need to do to adapt to the environment. the need to tear the city. material ',\n",
       " '@user too bad. wish there was a mary   #glassfetish',\n",
       " '@user indeed. but this is where we are as a culture. personality and celebrity \"trump\" substance.  ',\n",
       " 'stop this train makes me cry every time i listen to it the lyrics are   and #tru',\n",
       " 'when you wanna travel and actually have the money for it, but nobody wants to go with you   #nyc #foreveralone ð\\x9f\\x98¢ð\\x9f\\x98¢ð\\x9f\\x98\\xadð\\x9f\\x98\\xadð\\x9f\\x98©ð\\x9f\\x98©ð\\x9f\\x98\\x94ð\\x9f\\x98\\x94',\n",
       " 'eating makes me  ..... so there ð\\x9f\\x98\\x8b #koreanfood #mypassion ',\n",
       " '3 sleeps!!   #capitalstb @user @user',\n",
       " '@user \"the help that was here left \\'cause she was feeling sick. i was supposed to get help over an hour ago... but it\\'s just me!\"  ',\n",
       " 'first of todays bifolds fitted in watford  customer ',\n",
       " '  #awesome #dynamicduo missing chris ð\\x9f\\x98\\x94 #positivevibes having a great time loved the bridgeâ\\x80¦ ',\n",
       " ': ) :  you decide!  happiness is all in the perception of the mind.  life flows where focus goes.ð\\x9f\\x98\\x8e   life ',\n",
       " 'good morning all..have a nice weekendð\\x9f\\x98\\x8a day weekend#likeme #sun#likeforlikeâ\\x80¦ ',\n",
       " \"so impressed with @user ,i ordered late on sunday, it came today, it's been engraved to perfection &amp; has the cusses gift tag!!  \",\n",
       " ' @user   #memorial day, this is deep:   ',\n",
       " ' @user happiness is when uh have such a friend that fulfil all ur wishes.â\\x9d¤ð\\x9f\\x92\\x8cð\\x9f\\x92\\x8c. @user thnkuh for being such a sweethea htâ\\x80¦',\n",
       " 'having a   time with my sweet friend kaceepopa from the beautiful @user ...â\\x80¦ ',\n",
       " \"negative people cause negative atmospheres, life's too sho to be satisfied... be surrounded by positive and be happy!   #lifegoals\",\n",
       " 'i am thankful for now. #thankful #positive     ',\n",
       " '#besties   gorilla simulator: you need to do to adapt to the environment. the need to tear the city. materia ',\n",
       " '@user if you look in your bathroom #mirror and say \"donald trump\" three times, the #hair in your drain rises up and stas yellâ\\x80¦',\n",
       " 'are you #black &amp; feel like the  are stomping on you? â\\x80¦  #retweet #tampa #miamiâ\\x80¦ ',\n",
       " '100 amazing health benefits of cucumbers!    #healthy is  !!  #altwaystoheal! ',\n",
       " 'tyler perry claims â\\x80\\x98reverse racismâ\\x80\\x99 by critics of his tlc series #tyler #perry #claims #reverse  #criticsâ\\x80¦â\\x80¦ ',\n",
       " '@user #allahsoil the majority of violence involves the quest for oil .    â\\x80¦   #emiratisâ\\x80¦ ',\n",
       " 'looking forward to meeting my baby boy in 12 hours!  ',\n",
       " 'pivotal moment in my life. was unaware of how damn   #frogs made me till thisâ\\x80¦ ',\n",
       " \"just heard of #fitcity2016 a few days ago- now it's popping up everywhere! @user great talk about #healthy   cities today\",\n",
       " '#turkey #land #owner#money   #benefit #propey #profit #invest #torism #love #company #developer #sea #human ',\n",
       " '  sex blonde bj naked  ',\n",
       " 'check out this new trending #funny #gif !  , kim kardashian, crying ',\n",
       " '  to be launching our animal adoption today at our strawberry fayre',\n",
       " 'workspace matters to well-being  #workplacedesign #staff #matters #health #issues  #staff #productivity ',\n",
       " 'best homeopathic remedies for #anxiety  -    #altwaystoheal   #healing #peace !! ',\n",
       " \"  urges #eci to convene all pay meeting on #udtapunjab' issue  \",\n",
       " 'i find it so sad how celebrities that have a huge fandom and that are members of the lgbt community havent comment on the shooting  ',\n",
       " 'gents, if you want to make her  , take her vehicle to your local #napaautocare center.  ',\n",
       " \"area man hates himself, blames twitter users for noticing he's a pos. \",\n",
       " 'having a blue day? drown your sorrows in an icecream #blue #creamy   #icecream #hnt ',\n",
       " 'yellow bones girls on porn   hardcore tracks  ',\n",
       " ' @user #tgif   #ff to my #gamedev #indiedev #indiegamedev #squad! @user @user @user @user @user',\n",
       " ' @user tweet sheet- and keep it going-korea toure &amp; slaughter worse than yulin! s korea killing &amp; touring daily!   ',\n",
       " '@user to all those who assumed it was a muslim refugee who kicked the women down the stairs ',\n",
       " 'and now we wait.....ð\\x9f\\x98\\x8d #vodka #gummybears   ð\\x9f\\x98\\x81 ',\n",
       " '@user such as people talking about \"50 gay men were killed\" when it should be \"50 people were killed\"  ',\n",
       " \"@user wahhhh!!!!!  white ppl arent allowed to do this!!!  ð\\x9f\\x98\\x82ð\\x9f\\x98\\x82ð\\x9f\\x98\\x82.   fuck you rich. we don't care ð\\x9f\\x96\\x95 \",\n",
       " 'been a very productive weekend.. hard work pays off ð\\x9f\\x98\\x8að\\x9f\\x93\\x9dâ\\x9c\\x94ï¸\\x8f#selfie   #girl #smile #hardworkâ\\x80¦ ',\n",
       " \"that's cool, @user is a 'feel good' #university- i agree 100%. i always felt so   there! #college \",\n",
       " 'my brothers and sisters, take note of this: everyone should be quick to #listen, slow to #speak and slow to become   james 1:19',\n",
       " 'i am brilliant. #i_am #positive #affirmation     ',\n",
       " ' @user i am thankful for kisses. #thankful #positive     ',\n",
       " '#seriously #wrong #stoptheviolence 16 yr old killed at vigil for other #victims.   ',\n",
       " ' fusionmadness: miss them omg    #motivation',\n",
       " \"i'm a side guy without a home  \",\n",
       " 'what the just saw that dean ambrose won the money in the bank ladder match and then cash it in wow just wow. #wwe #stunned   #shocked',\n",
       " \"trump said he didn't understand anything the president said. trump just admitted he is stupid. dumbest ever.   #dumbasstrump\",\n",
       " \"#ripantonyelchin died in a car accident at 27. i can't believe this.   #likecrazy  \",\n",
       " \"you disgust me.. i really hope you know that you're a piece of crap.ð\\x9f\\x98\\x82 #sodone  \",\n",
       " 'itÂ´s a shame i canÂ´t watch 24h le mans on tv.  &amp;annoying ð\\x9f\\x98\\x94',\n",
       " \" @user @user @user @user   ationalbedfriendsday y'all been with me from the jump \",\n",
       " 'happy sunday â\\x9c\\x8cð\\x9f\\x8f¾ï¸\\x8fð\\x9f\\x99\\x8cð\\x9f\\x8f¾ #sunday #workout #leeds #weightloss #weightlosstraining #theedge  â\\x80¦ ',\n",
       " \"after a lot of too-ing and throwing. i've decided to take the plunge and purchase a #bumbag today for me hols. #retro  \",\n",
       " 'good ... morning? ð\\x9f\\x98³ð\\x9f\\x98\\x85ð\\x9f\\x94« ... i hope you have a great day ð\\x9f\\x90\\x92ð\\x9f\\x92\\x95 #pic #girl #me #photo   #instagramâ\\x80¦ ',\n",
       " '@user it will get worse, much worse. these shootings are small scale. wait until much bigger attacks killing thousands.  ',\n",
       " 'happy #filanfriday @user i hope you like it #shanefilan #myedit #smile #like #love  â\\x80¦ ',\n",
       " \"i'll be in sydney, from the usa, rooting for john scott while wearing a canadian jersey.ð\\x9f\\x98\\x8d   \",\n",
       " 'want to be  ?  |  ',\n",
       " '  #bday @user &amp; #tupac from #rapflashback  #gemini #hiphop #og #tbt #legend #june16 ',\n",
       " ' @user devi the   hippo calf | #photo by sandiegozoo #dream #love #hope #health #peace &amp; #a ',\n",
       " '#belgium #boatpay #pay #paytime   #londonescape wearing #asiafashion ',\n",
       " 'can #lighttherapy help with   or #depression?    #altwaystoheal  #healthy is #happy !! ',\n",
       " 'very   day in #orlando :(',\n",
       " ' @user thank you to @user for my packaging! if anybody needs anything designing &amp; printing i recommend @user ',\n",
       " 'experimental track #producing #morning #edm #dnb #trap   #tune #fastcore ',\n",
       " \"that big warm shoulder to cry on   father's day\",\n",
       " '  friday  weekend working  fasting ð\\x9f\\x98\\x83ð\\x9f\\x98\\x87 (at bca) â\\x80\\x94 ',\n",
       " 'warren zevon - keep me in your hea  via @user just watched the docu into the making of this album #thewind   ',\n",
       " 'this is a terrible tragedy! r.i.p #christinagrimmie the world is a scary place :-(   and #heabroken',\n",
       " 'damn, this really made me tear up a little.   #mustread ',\n",
       " ' @user \"never get so busy making a living, that you forget to make a life\" â\\x98ºï¸\\x8fð\\x9f\\x92\\x96â\\x9c\\x8cð\\x9f\\x8f½ï¸\\x8f # #thailand i\\'m coming #home ð\\x9f\\x98\\x8d   ',\n",
       " 'back to the low cut!!! #grayhair #dontcare #friday   #yeahhh ',\n",
       " \"first time that i'm taking the bus to work from the new house... let's see how this goes. ð\\x9f\\x98\\x84  \",\n",
       " '@user what a sad day for you! it is not racist to question whether a candidate is racist when you live in a multiracial country.  ',\n",
       " \"#disneygatorattack has happened before!   previous disney alligator attack victim has message for boy's family \",\n",
       " '\"gino\" plays his   #blues #guitar ',\n",
       " '#yummy #apbtapizaco #firstanniversary   @ apbt ',\n",
       " \"i'm back! lets sta twitting again!!  \",\n",
       " 'ghost adventures time fo macahur   nichole xx ',\n",
       " 'eeek! week today until i pick up my furbaby!!!!   ',\n",
       " 'ty @user @user for joining our #blendedlearning conversation    valleymms',\n",
       " ' @user at work :)   #sunshine   #happiness  #summerfeeling #love #best #summer #work #breakâ\\x80¦ ',\n",
       " 'wow!  trumps crowd. half the size of bernie turned hillary suppoers crowd.   ',\n",
       " \"some sweet stuff being shown at #e3 this year!! what's everyone looking forward to most? #videogames #vr  \",\n",
       " '@user @user listening to #metorites and #revive and definitely   for #pianohands #tonight #sevenyearsofpodcasts',\n",
       " 'too many tools out there, same functions..  ',\n",
       " 'remember to be happy #felice #felicitÃ\\xa0 #aldilÃ\\xa0ditutto   #behappy #remember #ricordaâ\\x80¦ ',\n",
       " \"@user   to #win your #facebook #meatfeast #competition - @user &amp; i can't wait till next #tuesday! #meat #wine ð\\x9f\\x8d·ð\\x9f\\x8d½ð\\x9f\\x8d·\",\n",
       " '@user @user @user @user sexless season. love scenes impoant to see.   #disappointed #puzzled #outlander',\n",
       " 'off to bracebridge, huntsville to look at more houses.#unsure #happy#willmisseveryone#notlikeisrranyofmyfriendsanyways#theirlifes#busy',\n",
       " \"hey @user @user and i couldn't wait to get the cheddar biscuits but they weren't the same. did you change something?  \",\n",
       " ' @user @user agreed! everyone deserves to be  , not used.',\n",
       " '\"i could make almost 100,000 a year in tennessee.\" \"yeah, honey.\" \"we can\\'t stay here forever, not in west virginia.\" \"i know.\"   ',\n",
       " '@user @user @user now heather blocks me.  @user has a real gem on their hands.   ',\n",
       " '@user @user -  lead out of #ignorance ð\\x9f\\x99\\x8fð\\x9f\\x8f½ #lovetrumpshate #janeelliot  ',\n",
       " 'wohoooo staup weekend sibu and staup weekend miri is coming in q3  yall! and mega staup sarawak end of this year!  ',\n",
       " 'i am thankful for food. #thankful #positive     ',\n",
       " \"@user unemployed so yes, you're 30 and still use twitter and trying to argue with a teen. #pathetic   #tryagain\",\n",
       " \"i'm not sure that meickenhorst #knows what an #inspiration she is to #me!  so   that iâ\\x80¦ \",\n",
       " ' @user be #positive keep #traveling #gtc #mydubai #dubai #love #smile   #care #travel #tourism #abudhabi #uae #trip ',\n",
       " 'i healy  osbornes ohelptobuy scheme is to be renamed help (yourselves) to bonuses  #outraged #shocked  ',\n",
       " 'crack corn. ð\\x9f\\x91\\x8að\\x9f\\x91¯ð\\x9f\\x8e\\xad 8.5x11\" bic pen, outcast.  #ink #sketchbook #sketchy #sketch #fear #scarred  â\\x80¦ ',\n",
       " '2 weeks and 2 days till i see my #babe   #countdown #iwannagonow',\n",
       " \"yep. and don't let #google hit you on the butt on your way out!  mustend \",\n",
       " 'so ready!!!ð\\x9f\\x98\\x81ð\\x9f\\x98\\x81ð\\x9f\\x98\\x81   #e32016  ',\n",
       " 'is it for real? ð\\x9f\\x91\\x91ð\\x9f\\x91\\x91ð\\x9f¤\\x97ð\\x9f¤\\x97  #friday #chuckaboos #picoftheday #loveit #day #enjoy #tgif #dance ',\n",
       " \"  #nationalbestfriendday! i'm #married to mine! #bff #husband #love #joy #marriageâ\\x80¦ \",\n",
       " 'celebrate with #dad today!   #fathersday! #menu ',\n",
       " 'hello #friday  ð\\x9f\\x92\\x95 #fitness #fitfam #abs #health   #model #fashion #bloggerâ\\x80¦ ',\n",
       " '#model   i love u take with u all the time in urð\\x9f\\x93±!!! ð\\x9f\\x98\\x99ð\\x9f\\x98\\x8eð\\x9f\\x91\\x84ð\\x9f\\x91\\x85ð\\x9f\\x92¦ð\\x9f\\x92¦ð\\x9f\\x92¦  ',\n",
       " '#marathon   gorilla simulator: you need to do to adapt to the environment. the need to tear the city. materi ',\n",
       " 'wow! #colga u guys are shooting guys #headshot on the basketball cou for real!   smh! doubles churchs! smdh',\n",
       " 'fit fitness in, better with these tips from vegatopians:  @user #eathealthy   ',\n",
       " 'friyay! because everyone deserves to be   via  @user       #showusthosepearlywhites',\n",
       " 'life is what you make it. letâ\\x80\\x99s make it  ! #motivation ',\n",
       " 'when you see a #facebookmemory that reminds you even when life is pretty shit, it can turn around &amp; be amazing! #goodjob #amazingboy  ',\n",
       " '@user   bihday bro',\n",
       " \" @user @user @user @user i'm not affluent &amp; there are millions more like me...way to just focus on one word #smhâ\\x80¦\",\n",
       " '@user why do you always run out of banana nut muffins :(   ð\\x9f\\x98°',\n",
       " '@user i can already feel it being another hit!  ',\n",
       " \"@user @user @user @user aren't we?   ð\\x9f\\x91\\x99 \",\n",
       " 'ð\\x9f\\x98\\x94   #music a ban on iraivi movie ?  ',\n",
       " '\"happy\" by happy     lyrics â\\x86º',\n",
       " '@user @user gracias messi   alone you',\n",
       " \"ellie just ate 3 stalks of asparagus. she's the child of my dreams.   #luckymom\",\n",
       " '  bihday sexy girl adults hentai  ',\n",
       " \"they have found the child's body still intact, the only hope is that it can bring some closure for the family   \",\n",
       " 'when you have nothing else to do, get the #selfies out lol #random   #selfie #snapchat ',\n",
       " 'just got my haircut and a good day to wear my oakley!  #selfie #me #smile   #bored #hairâ\\x80¦ ',\n",
       " ' @user so sad. may she rest in peace.  ',\n",
       " '#model   i love u take with u all the time in urð\\x9f\\x93±!!! ð\\x9f\\x98\\x99ð\\x9f\\x98\\x8eð\\x9f\\x91\\x84ð\\x9f\\x91\\x85ð\\x9f\\x92¦ð\\x9f\\x92¦ð\\x9f\\x92¦  ',\n",
       " '@user @user @user see you later!  ',\n",
       " 'tyler and i when we were kids (2001) to now... the annoyance grew into love.   #engaged #inlove ',\n",
       " '@user why poor vote #gop #guns #religion #ignorance #aboion #fear ',\n",
       " '#epic #pay   bihday ð\\x9f\\x8e\\x82ð\\x9f\\x8d¾ð\\x9f\\x92« @user #thankyou for this #amazing #fun #payâ\\x80¦ ',\n",
       " ' @user it just got real! @user @user #firestone600 @user #firsttimesponsor   ',\n",
       " 'happy day ð\\x9f\\x98\\x86 #night   ',\n",
       " 'imagem via we hea it  #amazing #food   #look #smile  ',\n",
       " \" @user while #hindusena was celebrating messiha's bihday in delhi, messiha was talking about kicking indians out of america. #sâ\\x80¦\",\n",
       " \"as a canadian, it's inconceivable that you can so easily buy an assault rifle in the us. terrible tragedy.   #gunlaws #orlandoshooting\",\n",
       " ' @user  the greatest teachers of unconditional #love are   2 teach 4 only room &amp; board  #pets ',\n",
       " ' @user can #atherapy and #musictherapy heal your life?   #altwaystoheal #healthy   #healing! ',\n",
       " 'feel the music!! #imback. #the #black #guitar #guy #feeling #so   #to #play #till #die # ',\n",
       " 'congratulations to my amazing parents on 35+ years together.   #anniversary #mom and #dad.â\\x80¦ ',\n",
       " '@user @user @user way to hide behind a broad statement - folks know when they are wrong when they generalize  ',\n",
       " 'my last two days in norway. as you can see.   #iaraheide #moving #movingabroad #backtoitalyâ\\x80¦ ',\n",
       " 'we know our #tweets can be #harsh at times, we are   to give #credit when its #due! we say what #people are #afraid to on #musicro',\n",
       " ' @user heading to london for a day at @user @user academy with additions #danbury #essex   x ',\n",
       " \"happy father's day! #fathersday #bestdaddy #sunnyday #smile   #flawless #beach #oceanâ\\x80¦ \",\n",
       " 'boys off to download 2016,   #dl2016 #daddysonday ',\n",
       " 'great day w seeds scholars @user ..topped off by coming home 2 amazing neighbors surprising us with a kind gesture   #blessed',\n",
       " ' @user watching the us open with my dad. i miss you pop!! #fathersday #love   #usopen first year without you. ð\\x9f\\x98\\xadð\\x9f\\x8d»ð\\x9f\\x98\\xad ',\n",
       " \"when i sta my rust official series, half way through i'm going to sta a single player game series. #hype  \",\n",
       " '@user @user @user nobdy wants 2 kiss #lying #conaist   #homophobic #islamaphobic #russianhack #nomâ\\x80¦',\n",
       " 'launch going well, many very   #readers available from  take a lð\\x9f\\x91\\x80k might really appeal! ',\n",
       " 'weather for sydney next week. not bad. not bad at all.   #sydney2016 ',\n",
       " 'yey! new motorbike on the way just for me! no issues parking anymore! stuff you traffic wardens! #yamaha  ',\n",
       " 'cheers to #argentina !!! regards from malvinas. messi deserves them   ',\n",
       " 'rainbow parade 2016  #vienna at its best: #open #inclusive #diverse   #livable  #lgbtcommunity #publicspace ',\n",
       " \"here at @user in provo getting my hair cut. haven't been here since my mom graduated.   #nostalgia\",\n",
       " '[1466306434.97] update @  #social #analytics   #conversion #instadaily #gaming ',\n",
       " '@user so in terms of leg room i was the only one with less space? you think that is right?   #nothappy',\n",
       " 'smile with my   #dog. #dogsarejoy ',\n",
       " \"why i didn't saw the hatchling's shos in the  birdsmovie? the reason is because i viewed the film earlier than it shall be. i'm  .\",\n",
       " 'if you have family that causes problems in your relationships and pick on your friends for no reason. . .you have a horrific life.  ',\n",
       " 'controlled by love &amp; hip-hop and gangster rap music   ',\n",
       " \"can't believe my brother has love island notifications on his phone #loveisland   ð\\x9f\\x98\\x82ð\\x9f\\x98\\x82ð\\x9f\\x98\\x82\",\n",
       " 'check out â\\x80\\x98enjoy ukulele - [royalty free music]â\\x80\\x99 by victoryaudio on #audiojungle here :  #ukulele   #music',\n",
       " '#babies   kidkusion driveway safety net - 30 feet  #bouncingbaby',\n",
       " \" @user let's get lost and find each other   #steady\",\n",
       " 'when you finally see a picture of the orlando shooter and realize you went to high school together.   #prayfororlando',\n",
       " 'i know that is one of \"my squirrels\" and the mate is nowhere to be found. :( mother nature was a bitch over night.  ',\n",
       " 'touch gestures on watchos. #wwdc16  ',\n",
       " 'please like &amp; share if you are agree  #dna #dnaquotes #quote #quoteoftheday #love   #proverb #lifestyle... ',\n",
       " \"thanks for showing who #won before i've even watched the @user @user on #catchup #joke #sky #ruined   \",\n",
       " 'treated myself to this beaut ð\\x9f\\x98\\x83ð\\x9f\\x8c»ð\\x9f\\x98\\x83 sunflowers make me   #saturdayvibes ',\n",
       " '@user #allahsoil the temptation to blame everything on a scapegoat is too strong to resist.  ',\n",
       " 'have a mother-beep great day.... #instagram   #positive #fun #awesome ',\n",
       " ' @user donald your unfavorability rating is 70%   ð\\x9f\\x98\\x82ð\\x9f\\x98\\x82ð\\x9f\\x98\\x82ð\\x9f\\x98\\x82ð\\x9f\\x98\\x82ð\\x9f\\x98\\x82ð\\x9f\\x98\\x82',\n",
       " ' @user @user you have a lot of company tara. you are standing on principle while many are selling out.   @user',\n",
       " 'enjoy my holiday. hello tokyo i am here. #taiwan #tokyo #holiday   #love @ naritaâ\\x80¦ ',\n",
       " ' @user loved meeting new s1s today - quick learners who enjoyed a walking dictation on pas of the body #transition   ',\n",
       " '#newstar   bull up: you will dominate your bull and you will direct it whatever you want it to do. when you ',\n",
       " \"can't wait for saturday night to go see @user 2!!!! #theconjuring2 #regalcinemas   #truestory\",\n",
       " '@user staff member telling fibs on transferring a number to nano sim. instead gave me a new number.   #complaint #missold',\n",
       " \" @user   father's day  thalaivaa vijay bdayspl week \",\n",
       " '#abrahamhicks ~ how to bring out the best in yourself and others  via @user #kindness #kind #helping #help  ',\n",
       " ...]"
      ]
     },
     "execution_count": 29,
     "metadata": {},
     "output_type": "execute_result"
    }
   ],
   "source": [
    "test_prep=test['tweet'].tolist()\n",
    "test_prep"
   ]
  },
  {
   "cell_type": "code",
   "execution_count": 30,
   "id": "dfb0c6e9",
   "metadata": {},
   "outputs": [],
   "source": [
    "test_prep = tokenizer.texts_to_sequences(test_prep)\n",
    "test_prep = pad_sequences(test_prep, maxlen=24)"
   ]
  },
  {
   "cell_type": "markdown",
   "id": "e498d298",
   "metadata": {},
   "source": [
    "## Model Prediction"
   ]
  },
  {
   "cell_type": "code",
   "execution_count": 31,
   "id": "3f722a17",
   "metadata": {
    "scrolled": false
   },
   "outputs": [
    {
     "name": "stdout",
     "output_type": "stream",
     "text": [
      "538/538 [==============================] - 2s 3ms/step\n"
     ]
    },
    {
     "data": {
      "text/plain": [
       "array([[2.9737164e-05],\n",
       "       [4.8612035e-03],\n",
       "       [1.9453399e-05],\n",
       "       ...,\n",
       "       [4.4043965e-05],\n",
       "       [3.8722355e-05],\n",
       "       [2.1277479e-05]], dtype=float32)"
      ]
     },
     "execution_count": 31,
     "metadata": {},
     "output_type": "execute_result"
    }
   ],
   "source": [
    "model.predict(test_prep)"
   ]
  },
  {
   "cell_type": "markdown",
   "id": "a4345a59",
   "metadata": {},
   "source": [
    "Examples on real tweets from test set:"
   ]
  },
  {
   "cell_type": "code",
   "execution_count": 36,
   "id": "b1191c85",
   "metadata": {},
   "outputs": [],
   "source": [
    "example= ['loving each other every day']\n",
    "example = tokenizer.texts_to_sequences(example)\n",
    "example = pad_sequences(example, maxlen=75)"
   ]
  },
  {
   "cell_type": "code",
   "execution_count": 37,
   "id": "0ac375ec",
   "metadata": {},
   "outputs": [
    {
     "name": "stdout",
     "output_type": "stream",
     "text": [
      "1/1 [==============================] - 0s 63ms/step\n"
     ]
    },
    {
     "data": {
      "text/plain": [
       "array([[3.516552e-05]], dtype=float32)"
      ]
     },
     "execution_count": 37,
     "metadata": {},
     "output_type": "execute_result"
    }
   ],
   "source": [
    "model.predict(example)"
   ]
  },
  {
   "cell_type": "markdown",
   "id": "dd9a904a",
   "metadata": {},
   "source": [
    "Accuracy of this example = ~0.02, that means tweet is not hate."
   ]
  },
  {
   "cell_type": "code",
   "execution_count": 40,
   "id": "ee5b4cb2",
   "metadata": {},
   "outputs": [
    {
     "name": "stdout",
     "output_type": "stream",
     "text": [
      "1/1 [==============================] - 0s 63ms/step\n"
     ]
    },
    {
     "data": {
      "text/plain": [
       "array([[1.770338e-05]], dtype=float32)"
      ]
     },
     "execution_count": 40,
     "metadata": {},
     "output_type": "execute_result"
    }
   ],
   "source": [
    "example_2=['how many more innocent people have to die while ceain politicians choose to ignore the hate and refuse to even discuss gun control']\n",
    "example_2 = tokenizer.texts_to_sequences(example_2)\n",
    "example_2 = pad_sequences(example_2, maxlen=75)\n",
    "model.predict(example_2)"
   ]
  },
  {
   "cell_type": "markdown",
   "id": "75b4cd33",
   "metadata": {},
   "source": [
    "Accuracy = ~0.01. Also, this tweet is not hate."
   ]
  },
  {
   "cell_type": "code",
   "execution_count": 41,
   "id": "fa8b1af1",
   "metadata": {},
   "outputs": [
    {
     "name": "stdout",
     "output_type": "stream",
     "text": [
      "1/1 [==============================] - 0s 51ms/step\n"
     ]
    },
    {
     "data": {
      "text/plain": [
       "array([[0.9999895]], dtype=float32)"
      ]
     },
     "execution_count": 41,
     "metadata": {},
     "output_type": "execute_result"
    }
   ],
   "source": [
    "example_3=['#black lives matter is a  group of #black extremist !']\n",
    "example_3 = tokenizer.texts_to_sequences(example_3)\n",
    "example_3 = pad_sequences(example_3, maxlen=75)\n",
    "model.predict(example_3)"
   ]
  },
  {
   "cell_type": "markdown",
   "id": "a18a0453",
   "metadata": {},
   "source": [
    "There are accuracy = ~1. It's hate speech."
   ]
  },
  {
   "cell_type": "markdown",
   "id": "519208fd",
   "metadata": {},
   "source": [
    "#### Result of Model: The result shows the likelihood of users' tweet being related to hate speech."
   ]
  },
  {
   "cell_type": "markdown",
   "id": "527a5e8b",
   "metadata": {},
   "source": [
    "## Saving the Model"
   ]
  },
  {
   "cell_type": "code",
   "execution_count": 39,
   "id": "abaee5f7",
   "metadata": {
    "scrolled": false
   },
   "outputs": [
    {
     "name": "stderr",
     "output_type": "stream",
     "text": [
      "WARNING:absl:Found untraced functions such as multi_head_attention_layer_call_fn, multi_head_attention_layer_call_and_return_conditional_losses, layer_normalization_layer_call_fn, layer_normalization_layer_call_and_return_conditional_losses, layer_normalization_1_layer_call_fn while saving (showing 5 of 22). These functions will not be directly callable after loading.\n"
     ]
    },
    {
     "name": "stdout",
     "output_type": "stream",
     "text": [
      "INFO:tensorflow:Assets written to: ram://b56f9dfd-700b-4900-81f1-948623275978/assets\n"
     ]
    },
    {
     "name": "stderr",
     "output_type": "stream",
     "text": [
      "INFO:tensorflow:Assets written to: ram://b56f9dfd-700b-4900-81f1-948623275978/assets\n"
     ]
    },
    {
     "data": {
      "text/plain": [
       "['model.pkl']"
      ]
     },
     "execution_count": 39,
     "metadata": {},
     "output_type": "execute_result"
    }
   ],
   "source": [
    "joblib.dump(model, 'model.pkl')"
   ]
  },
  {
   "cell_type": "code",
   "execution_count": 44,
   "id": "d70553f6",
   "metadata": {},
   "outputs": [
    {
     "name": "stderr",
     "output_type": "stream",
     "text": [
      "WARNING:absl:Found untraced functions such as multi_head_attention_layer_call_fn, multi_head_attention_layer_call_and_return_conditional_losses, layer_normalization_layer_call_fn, layer_normalization_layer_call_and_return_conditional_losses, layer_normalization_1_layer_call_fn while saving (showing 5 of 22). These functions will not be directly callable after loading.\n"
     ]
    },
    {
     "name": "stdout",
     "output_type": "stream",
     "text": [
      "INFO:tensorflow:Assets written to: ./models/assets\n"
     ]
    },
    {
     "name": "stderr",
     "output_type": "stream",
     "text": [
      "INFO:tensorflow:Assets written to: ./models/assets\n"
     ]
    }
   ],
   "source": [
    "model.save('./models/', save_format='tf')"
   ]
  },
  {
   "cell_type": "code",
   "execution_count": 45,
   "id": "3dc6ffb0",
   "metadata": {},
   "outputs": [],
   "source": [
    "model_loaded = tf.keras.models.load_model('./models/')"
   ]
  },
  {
   "cell_type": "code",
   "execution_count": null,
   "id": "40693827",
   "metadata": {},
   "outputs": [],
   "source": []
  }
 ],
 "metadata": {
  "kernelspec": {
   "display_name": "Python 3 (ipykernel)",
   "language": "python",
   "name": "python3"
  },
  "language_info": {
   "codemirror_mode": {
    "name": "ipython",
    "version": 3
   },
   "file_extension": ".py",
   "mimetype": "text/x-python",
   "name": "python",
   "nbconvert_exporter": "python",
   "pygments_lexer": "ipython3",
   "version": "3.9.12"
  }
 },
 "nbformat": 4,
 "nbformat_minor": 5
}
